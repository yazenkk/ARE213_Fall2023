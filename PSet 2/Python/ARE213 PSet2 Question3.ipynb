{
 "cells": [
  {
   "cell_type": "code",
   "execution_count": 221,
   "id": "cc173af9",
   "metadata": {
    "scrolled": true
   },
   "outputs": [],
   "source": [
    "import pandas as pd\n",
    "import numpy as np\n",
    "import matplotlib.pyplot as plt\n",
    "import matplotlib.dates as mdates\n",
    "import statsmodels.api as sm\n",
    "import statsmodels.formula.api as smf\n",
    "from fixedeffect.fe import fixedeffect, did, getfe\n"
   ]
  },
  {
   "cell_type": "code",
   "execution_count": 300,
   "id": "f5735aa0",
   "metadata": {},
   "outputs": [],
   "source": [
    "data = pd.read_csv('pset2.csv')"
   ]
  },
  {
   "cell_type": "code",
   "execution_count": 301,
   "id": "7fdedd88",
   "metadata": {},
   "outputs": [
    {
     "name": "stderr",
     "output_type": "stream",
     "text": [
      "<ipython-input-301-91911ea80437>:19: SettingWithCopyWarning: \n",
      "A value is trying to be set on a copy of a slice from a DataFrame.\n",
      "Try using .loc[row_indexer,col_indexer] = value instead\n",
      "\n",
      "See the caveats in the documentation: https://pandas.pydata.org/pandas-docs/stable/user_guide/indexing.html#returning-a-view-versus-a-copy\n",
      "  dat['years_post_prim'] = dat['years_post_prim'] - y\n",
      "<ipython-input-301-91911ea80437>:20: SettingWithCopyWarning: \n",
      "A value is trying to be set on a copy of a slice from a DataFrame.\n",
      "Try using .loc[row_indexer,col_indexer] = value instead\n",
      "\n",
      "See the caveats in the documentation: https://pandas.pydata.org/pandas-docs/stable/user_guide/indexing.html#returning-a-view-versus-a-copy\n",
      "  dat['never_treat'] = 1\n",
      "<ipython-input-301-91911ea80437>:14: SettingWithCopyWarning: \n",
      "A value is trying to be set on a copy of a slice from a DataFrame.\n",
      "Try using .loc[row_indexer,col_indexer] = value instead\n",
      "\n",
      "See the caveats in the documentation: https://pandas.pydata.org/pandas-docs/stable/user_guide/indexing.html#returning-a-view-versus-a-copy\n",
      "  dat['years_post_prim'] = dat['years_post_prim'] - 2004\n"
     ]
    }
   ],
   "source": [
    "data['log_fatal_per_cap'] = np.log(data['fatalities']/data['population'])\n",
    "\n",
    "\n",
    "\n",
    "#some data \"cleaning\"\n",
    "data['years_post_prim'] = data['year']\n",
    "df = pd.DataFrame(columns = data.columns)\n",
    "data['never_treat'] = 0\n",
    "for s in sorted(list(set(list(data['state'])))):\n",
    "    x = 0\n",
    "    dat = data[data['state']==s]\n",
    "    for y in list(set(list(data['year']))):\n",
    "        if dat.iloc[22]['primary']== 0:\n",
    "            dat['years_post_prim'] = dat['years_post_prim'] - 2004\n",
    "            #print(dat['years_post_prim'])\n",
    "            df = df.append(dat)\n",
    "            break\n",
    "        if dat.iloc[x]['primary']==1:\n",
    "            dat['years_post_prim'] = dat['years_post_prim'] - y\n",
    "            dat['never_treat'] = 1\n",
    "            df = df.append(dat)\n",
    "            break\n",
    "        x = x+1\n",
    "           \n",
    "df['post'] = df['years_post_prim']\n",
    "orig = list(set(list(df['years_post_prim'])))\n",
    "new = [1,1,1,1,1,1,1,1,1,1,1,1,1,1,1,1,1,1,1,1,0,0,0,0,0,0,0,0,0,0,0,0,0,0,0,0,0,0,0,0,0,0,0]\n",
    "\n",
    "df['post'] = df['post'].replace(orig,new)"
   ]
  },
  {
   "cell_type": "code",
   "execution_count": 302,
   "id": "2cd37b6f",
   "metadata": {},
   "outputs": [
    {
     "name": "stdout",
     "output_type": "stream",
     "text": [
      "48\n",
      "[1981, 1982, 1983, 1984, 1985, 1986, 1987, 1988, 1989, 1990, 1991, 1992, 1993, 1994, 1995, 1996, 1997, 1998, 1999, 2000, 2001, 2002, 2003]\n"
     ]
    }
   ],
   "source": [
    "print(len(sorted(list(set(list(data['state']))))))\n",
    "print(list(set(list(data['year']))))"
   ]
  },
  {
   "cell_type": "code",
   "execution_count": 306,
   "id": "21f40817",
   "metadata": {},
   "outputs": [
    {
     "name": "stdout",
     "output_type": "stream",
     "text": [
      "[(-0.019374693419648148, 1, 48), (-0.10405106982486512, 4, 47), (-0.04644978030617852, 1, 43), (-0.1317145516344156, 1, 42), (-0.010687478133418082, 1, 41), (0.03747439095362326, 2, 40), (-0.008891234326839026, 3, 38), (-0.02545566577520031, 3, 35), (-0.026686766476580415, 1, 32), (0.13967986498427098, 1, 31)]\n"
     ]
    }
   ],
   "source": [
    "#1\n",
    "\n",
    "tau_list=[]\n",
    "cohort_size = []\n",
    "for year in list(set(list(data['year'])))[1:]:\n",
    "    dat = df[df['year']==year]\n",
    "    dat2 = df[df['year']== year-1]\n",
    "    \n",
    "    mean_treat = dat[dat['years_post_prim']==0]['log_fatal_per_cap'].mean()\n",
    "    mean_no_treat = dat[dat['years_post_prim']<0]['log_fatal_per_cap'].mean()\n",
    "    mean_treat2 = dat2[dat2['years_post_prim']==-1]['log_fatal_per_cap'].mean()\n",
    "    mean_no_treat2 = dat2[dat2['years_post_prim']<-1]['log_fatal_per_cap'].mean()\n",
    "    \n",
    "    tau = mean_treat - mean_treat2 -mean_no_treat +mean_no_treat2\n",
    "\n",
    "    cohort = dat[dat['years_post_prim']==0]['log_fatal_per_cap'].shape[0] \n",
    "    cohort_size = dat[dat['years_post_prim']<0]['log_fatal_per_cap'].shape[0] + cohort\n",
    "    tau_list.append((tau, cohort, cohort_size))\n",
    "    \n",
    "tau_list = [tau for tau in tau_list if str(tau[0]) != 'nan']\n",
    "print(tau_list)"
   ]
  },
  {
   "cell_type": "code",
   "execution_count": 309,
   "id": "23d5268a",
   "metadata": {},
   "outputs": [
    {
     "name": "stdout",
     "output_type": "stream",
     "text": [
      "-0.01107430161452777\n",
      "18\n"
     ]
    }
   ],
   "source": [
    "tau_weighted = 0\n",
    "total = 0\n",
    "for tau in tau_list:\n",
    "    total = total + tau[1]\n",
    "    tau_weighted = tau_weighted + (tau[0]*tau[1])/tau[2]\n",
    "print(tau_weighted)\n",
    "print(total)"
   ]
  },
  {
   "cell_type": "code",
   "execution_count": 316,
   "id": "0653cf79",
   "metadata": {},
   "outputs": [
    {
     "name": "stdout",
     "output_type": "stream",
     "text": [
      "19     -0.005317\n",
      "20     -0.006582\n",
      "21     -0.005671\n",
      "22     -0.025512\n",
      "81     -0.151497\n",
      "          ...   \n",
      "940    -0.185011\n",
      "941    -0.237544\n",
      "942    -0.251788\n",
      "1033   -0.187367\n",
      "1034   -0.275325\n",
      "Name: tai_i_t, Length: 182, dtype: float64\n",
      "-0.10751347368607912\n",
      "-0.05352726184482127\n",
      "     h  ATT_h_Liu\n",
      "0    0  -0.053527\n",
      "1    1  -0.065068\n",
      "2    2  -0.067590\n",
      "3    3  -0.063771\n",
      "4    4  -0.085229\n",
      "5    5  -0.096785\n",
      "6    6  -0.115518\n",
      "7    7  -0.092711\n",
      "8    8  -0.154099\n",
      "9    9  -0.136518\n",
      "10  10  -0.135313\n",
      "11  11  -0.144515\n",
      "12  12  -0.157780\n",
      "13  13  -0.143960\n",
      "14  14  -0.137506\n",
      "15  15  -0.140737\n",
      "16  16  -0.204112\n",
      "17  17  -0.224800\n",
      "18  18  -0.267387\n",
      "19  19  -0.274797\n",
      "-0.13808606564998627\n"
     ]
    },
    {
     "name": "stderr",
     "output_type": "stream",
     "text": [
      "<ipython-input-316-90a9cecaac63>:20: SettingWithCopyWarning: \n",
      "A value is trying to be set on a copy of a slice from a DataFrame.\n",
      "Try using .loc[row_indexer,col_indexer] = value instead\n",
      "\n",
      "See the caveats in the documentation: https://pandas.pydata.org/pandas-docs/stable/user_guide/indexing.html#returning-a-view-versus-a-copy\n",
      "  data2['new'] = out.predict(sm.add_constant(data2[x3+x4]))\n",
      "<ipython-input-316-90a9cecaac63>:23: SettingWithCopyWarning: \n",
      "A value is trying to be set on a copy of a slice from a DataFrame.\n",
      "Try using .loc[row_indexer,col_indexer] = value instead\n",
      "\n",
      "See the caveats in the documentation: https://pandas.pydata.org/pandas-docs/stable/user_guide/indexing.html#returning-a-view-versus-a-copy\n",
      "  data2['tai_i_t'] = data2['log_fatal_per_cap'] - data2['new']\n"
     ]
    }
   ],
   "source": [
    "data_no_treat = df[df['years_post_prim']<0]\n",
    "x1 = pd.get_dummies(data_no_treat['state'])\n",
    "x2 = pd.get_dummies(data_no_treat['year'])\n",
    "data_no = pd.concat([data_no_treat, x1, x2], axis=1)\n",
    "\n",
    "x3 = sorted(list(set(list(data_no_treat['state']))))[1:]\n",
    "x4 = sorted(list(set(list(data_no_treat['year']))))[1:]\n",
    "\n",
    "\n",
    "vals = sm.OLS(data_no['log_fatal_per_cap'], sm.add_constant(data_no[x3+x4]))\n",
    "out = vals.fit(cov_type = 'HC0')\n",
    "#print(out.params)\n",
    "#print(out.summary())\n",
    "\n",
    "x1 = pd.get_dummies(df['state'])\n",
    "x2 = pd.get_dummies(df['year'])\n",
    "df4 = pd.concat([df, x1, x2], axis=1)\n",
    "data2 = df4[df4['years_post_prim']>-1]\n",
    "\n",
    "data2['new'] = out.predict(sm.add_constant(data2[x3+x4]))\n",
    "#print(data['new'])\n",
    "\n",
    "data2['tai_i_t'] = data2['log_fatal_per_cap'] - data2['new']\n",
    "\n",
    "print(data2['tai_i_t'])\n",
    "print(data2['tai_i_t'].mean())\n",
    "print(data2[data2['years_post_prim']==0]['tai_i_t'].mean())\n",
    "\n",
    "'''yaz1 = pd.read_stata('q3b_ATTs.dta')\n",
    "print(yaz1)\n",
    "print(yaz1['ATT_h_Liu'].mean())'''"
   ]
  },
  {
   "cell_type": "code",
   "execution_count": 314,
   "id": "c471ef58",
   "metadata": {},
   "outputs": [
    {
     "name": "stdout",
     "output_type": "stream",
     "text": [
      "19     -0.001606\n",
      "20      0.007319\n",
      "21      0.008833\n",
      "22     -0.005974\n",
      "81     -0.148404\n",
      "          ...   \n",
      "940    -0.164698\n",
      "941    -0.216627\n",
      "942    -0.225838\n",
      "1033   -0.159177\n",
      "1034   -0.242101\n",
      "Name: tai_i_t, Length: 182, dtype: float64\n",
      "-0.09775911178488182\n",
      "-0.04887688449106025\n"
     ]
    },
    {
     "name": "stderr",
     "output_type": "stream",
     "text": [
      "<ipython-input-314-b1c1db2ebbcc>:20: SettingWithCopyWarning: \n",
      "A value is trying to be set on a copy of a slice from a DataFrame.\n",
      "Try using .loc[row_indexer,col_indexer] = value instead\n",
      "\n",
      "See the caveats in the documentation: https://pandas.pydata.org/pandas-docs/stable/user_guide/indexing.html#returning-a-view-versus-a-copy\n",
      "  data2['new'] = out.predict(sm.add_constant(data2[x3+x4]))\n",
      "<ipython-input-314-b1c1db2ebbcc>:23: SettingWithCopyWarning: \n",
      "A value is trying to be set on a copy of a slice from a DataFrame.\n",
      "Try using .loc[row_indexer,col_indexer] = value instead\n",
      "\n",
      "See the caveats in the documentation: https://pandas.pydata.org/pandas-docs/stable/user_guide/indexing.html#returning-a-view-versus-a-copy\n",
      "  data2['tai_i_t'] = data2['log_fatal_per_cap'] - data2['new']\n"
     ]
    }
   ],
   "source": [
    "data_no_treat = df[df['years_post_prim']<0]\n",
    "x1 = pd.get_dummies(data_no_treat['state'])\n",
    "x2 = pd.get_dummies(data_no_treat['year'])\n",
    "data_no = pd.concat([data_no_treat, x1, x2], axis=1)\n",
    "\n",
    "x3 = sorted(list(set(list(data_no_treat['state']))))[1:]\n",
    "x4 = sorted(list(set(list(data_no_treat['year']))))[1:]\n",
    "\n",
    "\n",
    "vals = sm.WLS(data_no['log_fatal_per_cap'], sm.add_constant(data_no[x3+x4]), weights= data_no['population'])\n",
    "out = vals.fit(cov_type = 'HC0')\n",
    "#print(out.params)\n",
    "#print(out.summary())\n",
    "\n",
    "x1 = pd.get_dummies(df['state'])\n",
    "x2 = pd.get_dummies(df['year'])\n",
    "df4 = pd.concat([df, x1, x2], axis=1)\n",
    "data2 = df4[df4['years_post_prim']>-1]\n",
    "\n",
    "data2['new'] = out.predict(sm.add_constant(data2[x3+x4]))\n",
    "#print(data['new'])\n",
    "\n",
    "data2['tai_i_t'] = data2['log_fatal_per_cap'] - data2['new']\n",
    "\n",
    "print(data2['tai_i_t'])\n",
    "print(data2['tai_i_t'].mean())\n",
    "print(data2[data2['years_post_prim']==0]['tai_i_t'].mean())"
   ]
  },
  {
   "cell_type": "code",
   "execution_count": null,
   "id": "ffaa1f21",
   "metadata": {},
   "outputs": [],
   "source": []
  }
 ],
 "metadata": {
  "kernelspec": {
   "display_name": "Python 3",
   "language": "python",
   "name": "python3"
  },
  "language_info": {
   "codemirror_mode": {
    "name": "ipython",
    "version": 3
   },
   "file_extension": ".py",
   "mimetype": "text/x-python",
   "name": "python",
   "nbconvert_exporter": "python",
   "pygments_lexer": "ipython3",
   "version": "3.8.8"
  }
 },
 "nbformat": 4,
 "nbformat_minor": 5
}
