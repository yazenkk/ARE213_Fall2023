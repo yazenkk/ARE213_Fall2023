{
 "cells": [
  {
   "cell_type": "code",
   "execution_count": 1,
   "id": "2eebc69f",
   "metadata": {},
   "outputs": [],
   "source": [
    "import pandas as pd\n",
    "import numpy as np\n",
    "import matplotlib.pyplot as plt\n",
    "import matplotlib.dates as mdates\n",
    "import statsmodels.api as sm\n",
    "import statsmodels.formula.api as smf\n",
    "from fixedeffect.fe import fixedeffect, did, getfe\n",
    "\n",
    "pd.options.mode.chained_assignment = None"
   ]
  },
  {
   "cell_type": "code",
   "execution_count": 2,
   "id": "5a242a86",
   "metadata": {},
   "outputs": [],
   "source": [
    "#open data\n",
    "data = pd.read_csv('pset2.csv')"
   ]
  },
  {
   "cell_type": "code",
   "execution_count": 4,
   "id": "78b2b0a5",
   "metadata": {},
   "outputs": [],
   "source": [
    "data['log_fatal_per_cap'] = np.log(data['fatalities']/data['population'])\n",
    "\n",
    "\n",
    "\n",
    "#some data \"cleaning\"\n",
    "data['years_post_prim'] = data['year']\n",
    "df = pd.DataFrame(columns = data.columns)\n",
    "data['never_treat'] = 0\n",
    "for s in sorted(list(set(list(data['state'])))):\n",
    "    x = 0\n",
    "    dat = data[data['state']==s]\n",
    "    for y in list(set(list(data['year']))):\n",
    "        if dat.iloc[22]['primary']== 0:\n",
    "            dat['years_post_prim'] = dat['years_post_prim'] - 2004\n",
    "            #print(dat['years_post_prim'])\n",
    "            df = df.append(dat)\n",
    "            break\n",
    "        if dat.iloc[x]['primary']==1:\n",
    "            dat['years_post_prim'] = dat['years_post_prim'] - y\n",
    "            dat['never_treat'] = 1\n",
    "            df = df.append(dat)\n",
    "            break\n",
    "        x = x+1\n",
    "           \n",
    "df['post'] = df['years_post_prim']\n",
    "orig = list(set(list(df['years_post_prim'])))\n",
    "new = [1,1,1,1,1,1,1,1,1,1,1,1,1,1,1,1,1,1,1,1,0,0,0,0,0,0,0,0,0,0,0,0,0,0,0,0,0,0,0,0,0,0,0]\n",
    "\n",
    "df['post'] = df['post'].replace(orig,new)\n",
    "\n",
    "#assign cohort\n",
    "df['cohort'] = df['state']\n",
    "for s in sorted(list(set(list(df['state'])))):\n",
    "    df['cohort'] = df['cohort'].replace(s, str(df[(df['state']==s)&(df['years_post_prim']==0)]['year'].sum()))\n",
    "df['cohortc'] = df['cohort']\n",
    "for y in list(set(list(df['cohort']))):\n",
    "    if (int(y)!=0)&(int(y) < 1990):\n",
    "        df['cohortc'] = df['cohortc'].replace(y, '1980')\n",
    "    if (int(y)>=1990)&(int(y)<2000):\n",
    "        df['cohortc'] = df['cohortc'].replace(y, '1990')\n",
    "    if int(y) =='0':\n",
    "        df['cohortc'] = df['cohortc'].replace(y, '0')\n",
    "    if int(y)>=2000:\n",
    "        df['cohortc'] = df['cohortc'].replace(y, '2000')"
   ]
  },
  {
   "cell_type": "code",
   "execution_count": 27,
   "id": "c20b0598",
   "metadata": {},
   "outputs": [
    {
     "name": "stdout",
     "output_type": "stream",
     "text": [
      "ATT\n",
      "-0.2708693991058103\n",
      "horizon 0 ATT\n",
      "-0.15149702177938917\n"
     ]
    }
   ],
   "source": [
    "#3.b\n",
    "\n",
    "#get state year dummies\n",
    "data_no_treat = df[df['years_post_prim']<0]\n",
    "x1 = pd.get_dummies(data_no_treat['state'])\n",
    "x2 = pd.get_dummies(data_no_treat['year'])\n",
    "data_no = pd.concat([data_no_treat, x1, x2], axis=1)\n",
    "\n",
    "x3 = sorted(list(set(list(data_no_treat['state']))))[1:]\n",
    "x4 = sorted(list(set(list(data_no_treat['year']))))[1:]\n",
    "\n",
    "#get alphai and betat\n",
    "vals = sm.OLS(data_no['log_fatal_per_cap'], sm.add_constant(data_no[x3+x4]))\n",
    "out = vals.fit(cov_type = 'HC0')\n",
    "\n",
    "\n",
    "\n",
    "x1 = pd.get_dummies(df['state'])\n",
    "x2 = pd.get_dummies(df['year'])\n",
    "df4 = pd.concat([df, x1, x2], axis=1)\n",
    "data2 = df4[df4['years_post_prim']>-1]\n",
    "#data2 = data2[data2['state']=='CA']\n",
    "\n",
    "\n",
    "#predict y_i_t\n",
    "data2['new'] = out.predict(sm.add_constant(data2[x3+x4]))\n",
    "\n",
    "#get tau (y_true - y_i_t)\n",
    "data2['tai_i_t'] = data2['log_fatal_per_cap'] - data2['new']\n",
    "\n",
    "print('ATT')\n",
    "print(data2[data2['state']=='CA']['tai_i_t'].mean())\n",
    "print('horizon 0 ATT')\n",
    "print(data2[(data2['years_post_prim']==0)&(data2['state']=='CA')]['tai_i_t'].mean())\n"
   ]
  },
  {
   "cell_type": "code",
   "execution_count": null,
   "id": "88d2a3dc",
   "metadata": {},
   "outputs": [],
   "source": []
  }
 ],
 "metadata": {
  "kernelspec": {
   "display_name": "Python 3",
   "language": "python",
   "name": "python3"
  },
  "language_info": {
   "codemirror_mode": {
    "name": "ipython",
    "version": 3
   },
   "file_extension": ".py",
   "mimetype": "text/x-python",
   "name": "python",
   "nbconvert_exporter": "python",
   "pygments_lexer": "ipython3",
   "version": "3.8.8"
  }
 },
 "nbformat": 4,
 "nbformat_minor": 5
}
