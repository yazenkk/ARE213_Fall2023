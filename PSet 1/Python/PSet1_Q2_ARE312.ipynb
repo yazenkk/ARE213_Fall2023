{
 "cells": [
  {
   "cell_type": "code",
   "execution_count": 11,
   "id": "0d444278",
   "metadata": {},
   "outputs": [],
   "source": [
    "import pandas as pd\n",
    "import numpy as np\n",
    "#import data packages\n",
    "import statsmodels.api as sm\n",
    "#import regression packages"
   ]
  },
  {
   "cell_type": "code",
   "execution_count": 6,
   "id": "a99d5a69",
   "metadata": {},
   "outputs": [],
   "source": [
    "data = pd.read_csv('clean_pset1.csv')"
   ]
  },
  {
   "cell_type": "code",
   "execution_count": 9,
   "id": "b3b5fa33",
   "metadata": {},
   "outputs": [
    {
     "name": "stdout",
     "output_type": "stream",
     "text": [
      "-240.47781100396332\n",
      "4.6266507330346105\n"
     ]
    }
   ],
   "source": [
    "#calculate mean diff\n",
    "mean_dif = data[data['tobacco'] == 1]['dbrwt'].mean() - data[data['tobacco'] == 0]['dbrwt'].mean()\n",
    "print(mean_dif)   \n",
    "\n",
    "#calculate se for means (not robust)\n",
    "se = mean_dif = np.sqrt((float(data[data['tobacco'] == 1]['dbrwt'].std())**2)/float(data[data['tobacco'] == 1]['dbrwt'].size) + \n",
    "                        float((data[data['tobacco'] == 0]['dbrwt'].std())**2)/float(data[data['tobacco']==0]['dbrwt'].size))\n",
    "print(se)                                                                                                                                                                                                                                                              "
   ]
  },
  {
   "cell_type": "code",
   "execution_count": 14,
   "id": "e79f2b05",
   "metadata": {},
   "outputs": [
    {
     "name": "stdout",
     "output_type": "stream",
     "text": [
      "                            OLS Regression Results                            \n",
      "==============================================================================\n",
      "Dep. Variable:                  dbrwt   R-squared:                       0.023\n",
      "Model:                            OLS   Adj. R-squared:                  0.023\n",
      "Method:                 Least Squares   F-statistic:                     2702.\n",
      "Date:                Sun, 01 Oct 2023   Prob (F-statistic):               0.00\n",
      "Time:                        12:07:42   Log-Likelihood:            -8.9160e+05\n",
      "No. Observations:              114610   AIC:                         1.783e+06\n",
      "Df Residuals:                  114608   BIC:                         1.783e+06\n",
      "Df Model:                           1                                         \n",
      "Covariance Type:                  HC0                                         \n",
      "==============================================================================\n",
      "                 coef    std err          z      P>|z|      [0.025      0.975]\n",
      "------------------------------------------------------------------------------\n",
      "const       3411.6170      1.868   1826.620      0.000    3407.956    3415.278\n",
      "tobacco     -240.4778      4.627    -51.978      0.000    -249.546    -231.410\n",
      "==============================================================================\n",
      "Omnibus:                    15963.198   Durbin-Watson:                   1.870\n",
      "Prob(Omnibus):                  0.000   Jarque-Bera (JB):            43808.162\n",
      "Skew:                          -0.766   Prob(JB):                         0.00\n",
      "Kurtosis:                       5.613   Cond. No.                         2.81\n",
      "==============================================================================\n",
      "\n",
      "Notes:\n",
      "[1] Standard Errors are heteroscedasticity robust (HC0)\n"
     ]
    }
   ],
   "source": [
    "#or... do it via regression!\n",
    "vals = sm.OLS(data[y], sm.add_constant(data[D]))\n",
    "out = vals.fit(cov_type = 'HC0')\n",
    "print(out.summary())"
   ]
  },
  {
   "cell_type": "code",
   "execution_count": 16,
   "id": "03cff4f9",
   "metadata": {},
   "outputs": [],
   "source": [
    "#variable classification\n",
    "\n",
    "\n",
    "#outcome\n",
    "y = ['dbrwt']\n",
    "#treatment\n",
    "D = ['tobacco']\n",
    "#cor with y and D\n",
    "\n",
    "#we believe that drinking alcohol, a mother's race, adequacy of care, other health problems, education, age, \n",
    "#marriage, and birth order all affect whether a woman smokes during pregnancy and the weight of the child\n",
    "x1 = ['alcohol', 'mrace3_2', 'mrace3_3', 'ormothhis', 'adeq_2.0', 'adeq_3.0', 'cardiac', 'pre4000', 'phyper',  \n",
    "     'diabetes', 'anemia', 'lung', 'dlivord', 'educ_0.0', 'educ_1.0', 'educ_2.0','dmage', 'dmar','tot_2.0',\n",
    "      'tot_3.0','tot_4.0','tot_5.0','tot_6.0','tot_7.0','tot_8.0','live_1.0', 'live_2.0', 'live_3.0','live_4.0',\n",
    "      'live_5.0','live_6.0','live_7.0','live_8.0', 'live_9.0']\n",
    "\n",
    "#cor with y not D\n",
    "#we believe that the sex of the child, length of gestation, and the plurality of the pregnancy \n",
    "#only affect the birth weight of the child; they do not affect whether the mother smokes\n",
    "x3 = ['dgestat', 'csex', 'plur_1']"
   ]
  },
  {
   "cell_type": "code",
   "execution_count": null,
   "id": "5f3c5f38",
   "metadata": {},
   "outputs": [],
   "source": []
  }
 ],
 "metadata": {
  "kernelspec": {
   "display_name": "Python 3",
   "language": "python",
   "name": "python3"
  },
  "language_info": {
   "codemirror_mode": {
    "name": "ipython",
    "version": 3
   },
   "file_extension": ".py",
   "mimetype": "text/x-python",
   "name": "python",
   "nbconvert_exporter": "python",
   "pygments_lexer": "ipython3",
   "version": "3.8.8"
  }
 },
 "nbformat": 4,
 "nbformat_minor": 5
}
