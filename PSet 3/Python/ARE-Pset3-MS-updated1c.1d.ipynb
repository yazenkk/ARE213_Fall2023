{
 "cells": [
  {
   "cell_type": "markdown",
   "id": "8bb8c268",
   "metadata": {},
   "source": [
    "# Pset3\n",
    "\n",
    "## How does the HSR system affect employment growth?\n",
    "\n",
    "i = cities\n",
    "k = HSR lines\n",
    "340 cities = Prefecture-level cities\n",
    "Yi = 2007-2016 log-change in city employment (has some missing values)\n",
    "149 new HSR lines planned\n",
    "84 of them opened by 2016\n",
    "x = different summary measures of a city's connectedness to the HSR network in 2016 relative to 2007\n",
    "Lk = Cross-regional links the line has = number of cities the line connects minus 1\n"
   ]
  },
  {
   "cell_type": "markdown",
   "id": "b2430efd",
   "metadata": {},
   "source": [
    "## 1-a) Represent change in lines as a shift-share variable"
   ]
  },
  {
   "cell_type": "code",
   "execution_count": 1,
   "id": "b8bd12f0",
   "metadata": {},
   "outputs": [],
   "source": [
    "# Define exposure shares and shocks"
   ]
  },
  {
   "cell_type": "code",
   "execution_count": 2,
   "id": "3d5b6271",
   "metadata": {},
   "outputs": [],
   "source": [
    "# Datasets provided\n",
    "# pset3_cities: List of cities with geographical coordinates and city-level variables.\n",
    "# pset3_lines: Information on HSR lines, including opening status and number of links.\n",
    "# pset3_stations: List of cities connected by each HSR line.\n",
    "# pset3_distances: Distances between pairs of cities."
   ]
  },
  {
   "cell_type": "code",
   "execution_count": 3,
   "id": "73a7c194",
   "metadata": {},
   "outputs": [],
   "source": [
    "import pandas as pd\n",
    "df_cities = pd.read_csv(\"pset3_cities.csv\")\n",
    "df_lines = pd.read_csv(\"pset3_lines.csv\")\n",
    "df_stations = pd.read_csv(\"pset3_stations.csv\")\n",
    "df_distances = pd.read_csv(\"pset3_distances.csv\")"
   ]
  },
  {
   "cell_type": "code",
   "execution_count": 4,
   "id": "b91ff1a7",
   "metadata": {},
   "outputs": [
    {
     "name": "stdout",
     "output_type": "stream",
     "text": [
      "Mean of ΔLinesi: 1.2792452830188679\n",
      "Maximum of ΔLinesi: 6.999999999999999\n"
     ]
    }
   ],
   "source": [
    "# Step 1: Determine the Opening Status of Each Line (open = dummy)\n",
    "df_lines['opened'] = df_lines['open'] == 1   \n",
    "\n",
    "# Step 2: Map cities to lines --> merge df_stations with df_lines to get the opening status for each line-city pair\n",
    "df_stations_merged = pd.merge(df_stations, df_lines[['lineid', 'opened']], on='lineid')\n",
    "\n",
    "# Count the number of opened lines for each city\n",
    "city_line_count = df_stations_merged.groupby('cityid')['opened'].sum().reset_index()\n",
    "city_line_count.rename(columns={'opened': 'opened_line_count'}, inplace=True)\n",
    "\n",
    "# Step 3: Calc exposure share for each city\n",
    "total_opened_lines = df_lines['opened'].sum()\n",
    "city_line_count['exposure_share'] = city_line_count['opened_line_count'] / total_opened_lines\n",
    "\n",
    "# Step 4: Calc ΔLines_i for each city\n",
    "# Merge with df_cities to assign each city its ΔLinesi value\n",
    "df_cities = pd.merge(df_cities, city_line_count[['cityid', 'exposure_share']], on='cityid')\n",
    "df_cities['delta_linesi'] = df_cities['exposure_share'] * total_opened_lines\n",
    "\n",
    "# Step 5: Compute the mean, max, and average of ΔLines_i\n",
    "mean_delta_linesi = df_cities['delta_linesi'].mean()\n",
    "max_delta_linesi = df_cities['delta_linesi'].max()\n",
    "average_delta_linesi = mean_delta_linesi  # Mean and avg are the same in this context\n",
    "\n",
    "print(f\"Mean of ΔLinesi: {mean_delta_linesi}\")\n",
    "print(f\"Maximum of ΔLinesi: {max_delta_linesi}\")"
   ]
  },
  {
   "cell_type": "markdown",
   "id": "f3c4fdec",
   "metadata": {},
   "source": [
    "## 1-b) OLS\n",
    "Estimate (1) by OLS without controls and also adding fixed effects of 30 Chinese provinces. Use heteroskedasticity-robust standard errors. Is the coefficient economically large? Explain why simple OLS with no controls is not likely to produce a causal estimate even if assumptions A1–A3 hold and specification (1) is correct. Is the estimator with province fixed effects more likely to produce a causal estimate?"
   ]
  },
  {
   "cell_type": "markdown",
   "id": "ddb3bc1d",
   "metadata": {},
   "source": [
    "### Response to 1-b:\n",
    "##### Estimation Using OLS\n",
    "Regressing the employment growth (empgrowth) on ΔLinesi (delta_linesi).\n",
    "\n",
    "##### OLS With Province Fixed Effects\n",
    "Regressing the employment growth (empgrowth) on ΔLinesi (delta_linesi), including dummy variables for each of the 30 Chinese provinces to control for province-specific effects.\n",
    "\n",
    "Both regressions should use heteroskedasticity-robust standard errors."
   ]
  },
  {
   "cell_type": "code",
   "execution_count": 5,
   "id": "b6da2782",
   "metadata": {},
   "outputs": [
    {
     "name": "stdout",
     "output_type": "stream",
     "text": [
      "                            OLS Regression Results                            \n",
      "==============================================================================\n",
      "Dep. Variable:              empgrowth   R-squared:                       0.096\n",
      "Model:                            OLS   Adj. R-squared:                  0.092\n",
      "Method:                 Least Squares   F-statistic:                     21.50\n",
      "Date:                Sat, 18 Nov 2023   Prob (F-statistic):           5.89e-06\n",
      "Time:                        21:33:08   Log-Likelihood:                 16.251\n",
      "No. Observations:                 236   AIC:                            -28.50\n",
      "Df Residuals:                     234   BIC:                            -21.58\n",
      "Df Model:                           1                                         \n",
      "Covariance Type:                  HC3                                         \n",
      "================================================================================\n",
      "                   coef    std err          z      P>|z|      [0.025      0.975]\n",
      "--------------------------------------------------------------------------------\n",
      "Intercept        0.2135      0.023      9.367      0.000       0.169       0.258\n",
      "delta_linesi     0.0627      0.014      4.637      0.000       0.036       0.089\n",
      "==============================================================================\n",
      "Omnibus:                        6.474   Durbin-Watson:                   1.758\n",
      "Prob(Omnibus):                  0.039   Jarque-Bera (JB):                6.286\n",
      "Skew:                           0.338   Prob(JB):                       0.0432\n",
      "Kurtosis:                       3.428   Cond. No.                         3.14\n",
      "==============================================================================\n",
      "\n",
      "Notes:\n",
      "[1] Standard Errors are heteroscedasticity robust (HC3)\n",
      "                            OLS Regression Results                            \n",
      "==============================================================================\n",
      "Dep. Variable:              empgrowth   R-squared:                       0.386\n",
      "Model:                            OLS   Adj. R-squared:                  0.299\n",
      "Method:                 Least Squares   F-statistic:                     6.084\n",
      "Date:                Sat, 18 Nov 2023   Prob (F-statistic):           1.16e-15\n",
      "Time:                        21:33:08   Log-Likelihood:                 61.893\n",
      "No. Observations:                 236   AIC:                            -63.79\n",
      "Df Residuals:                     206   BIC:                             40.13\n",
      "Df Model:                          29                                         \n",
      "Covariance Type:                  HC3                                         \n",
      "====================================================================================================\n",
      "                                       coef    std err          z      P>|z|      [0.025      0.975]\n",
      "----------------------------------------------------------------------------------------------------\n",
      "Intercept                            0.2814      0.059      4.731      0.000       0.165       0.398\n",
      "C(province_en)[T.beijing]            0.0050      0.229      0.022      0.982      -0.443       0.453\n",
      "C(province_en)[T.chongqing]          0.0701      0.175      0.400      0.689      -0.273       0.413\n",
      "C(province_en)[T.fujian]            -0.0827      0.093     -0.892      0.373      -0.264       0.099\n",
      "C(province_en)[T.gansu]             -0.0488      0.079     -0.618      0.537      -0.203       0.106\n",
      "C(province_en)[T.guangdong]          0.0222      0.077      0.290      0.772      -0.128       0.172\n",
      "C(province_en)[T.guangxi]           -0.1104      0.074     -1.492      0.136      -0.255       0.035\n",
      "C(province_en)[T.guizhou]           -0.0396      0.090     -0.442      0.658      -0.215       0.136\n",
      "C(province_en)[T.hebei]             -0.1526      0.077     -1.992      0.046      -0.303      -0.002\n",
      "C(province_en)[T.heilongjiang]      -0.4578      0.080     -5.732      0.000      -0.614      -0.301\n",
      "C(province_en)[T.henan]              0.0612      0.070      0.873      0.383      -0.076       0.199\n",
      "C(province_en)[T.hubei]              0.1771      0.125      1.421      0.155      -0.067       0.421\n",
      "C(province_en)[T.hunan]             -0.1976      0.085     -2.321      0.020      -0.364      -0.031\n",
      "C(province_en)[T.inner mongolia]    -0.0721      0.119     -0.605      0.545      -0.306       0.162\n",
      "C(province_en)[T.jiangsu]            0.1621      0.090      1.792      0.073      -0.015       0.339\n",
      "C(province_en)[T.jiangxi]            0.0927      0.081      1.137      0.255      -0.067       0.252\n",
      "C(province_en)[T.jilin]             -0.2312      0.115     -2.012      0.044      -0.456      -0.006\n",
      "C(province_en)[T.liaoning]          -0.2313      0.075     -3.074      0.002      -0.379      -0.084\n",
      "C(province_en)[T.ningxia]           -0.1370      0.077     -1.780      0.075      -0.288       0.014\n",
      "C(province_en)[T.qinghai]            0.0302      0.116      0.260      0.795      -0.198       0.258\n",
      "C(province_en)[T.shaanxi]           -0.0160      0.089     -0.180      0.857      -0.190       0.158\n",
      "C(province_en)[T.shandong]          -0.0213      0.074     -0.287      0.774      -0.167       0.124\n",
      "C(province_en)[T.shanghai]           0.2785      2.251      0.124      0.902      -4.134       4.691\n",
      "C(province_en)[T.shanxi]            -0.1962      0.078     -2.508      0.012      -0.350      -0.043\n",
      "C(province_en)[T.sichuan]           -0.0701      0.107     -0.652      0.514      -0.281       0.140\n",
      "C(province_en)[T.tianjin]           -0.1206      2.109     -0.057      0.954      -4.254       4.013\n",
      "C(province_en)[T.xinjiang]           0.1663      0.078      2.145      0.032       0.014       0.318\n",
      "C(province_en)[T.yunnan]            -0.1205      0.141     -0.855      0.392      -0.397       0.156\n",
      "C(province_en)[T.zhejiang]          -0.0237      0.108     -0.220      0.826      -0.235       0.188\n",
      "delta_linesi                         0.0496      0.018      2.827      0.005       0.015       0.084\n",
      "==============================================================================\n",
      "Omnibus:                       13.138   Durbin-Watson:                   2.252\n",
      "Prob(Omnibus):                  0.001   Jarque-Bera (JB):               19.133\n",
      "Skew:                           0.370   Prob(JB):                     7.00e-05\n",
      "Kurtosis:                       4.183   Cond. No.                         44.1\n",
      "==============================================================================\n",
      "\n",
      "Notes:\n",
      "[1] Standard Errors are heteroscedasticity robust (HC3)\n"
     ]
    }
   ],
   "source": [
    "import statsmodels.api as sm\n",
    "import statsmodels.formula.api as smf\n",
    "\n",
    "# OLS without controls\n",
    "model_no_controls = smf.ols('empgrowth ~ delta_linesi', data=df_cities).fit(cov_type='HC3')\n",
    "print(model_no_controls.summary())\n",
    "\n",
    "# OLS with province fixed effects\n",
    "# Assuming 'province_en' is the column for English names of provinces in df_cities\n",
    "model_with_fe = smf.ols('empgrowth ~ delta_linesi + C(province_en)', data=df_cities).fit(cov_type='HC3')\n",
    "print(model_with_fe.summary())"
   ]
  },
  {
   "cell_type": "markdown",
   "id": "8a588ade",
   "metadata": {},
   "source": [
    "### Response to 1-b (continued):\n",
    "##### Simple OLS without Controls\n",
    "OLS might not produce a causal estimate due to OVB. Factors, supplementary transportation structures, or differing regional policies could affect both the HSR development and employment growth. Those however are not controlled for in this model.\n",
    "\n",
    "Adding fixed effects for provinces controls for all time-invariant factors. This makes it more likely to produce a causal estimation, as it accounts for unobserved heterogeneity that may be correlated with both HSR development and employment growth. The consideration of ime-varying confounders is important as well thoguh. \n",
    "\n",
    "The size of the coefficient depends on its magnitude and significance. An large effect would suggest that changes in HSR connectivity have a substantial impact on employment growth.\n",
    "\n",
    "Even with FEs, other unobserved factors at the city level or time-varying province-level factors affecting employment growth could be omitted. While the model with province FEs is better than just an OLS, it might still not fully capture the causal impact of the HSR development on employment growth."
   ]
  },
  {
   "cell_type": "markdown",
   "id": "88177f5b",
   "metadata": {},
   "source": [
    "## 1-c) Controls\n",
    "Which line-level controls does Assumption A1 compel us to include (qk in the notation of the lecture)? Compute the city-level controls Qi corresponding to these qk. How many of them do you have and how do you interpret them? Intuitively, why is including these controls a good idea?"
   ]
  },
  {
   "cell_type": "markdown",
   "id": "8b761d9a",
   "metadata": {},
   "source": [
    "### Response to 1-c:\n",
    "\n",
    "COMMENT: DIFFERENCE BETWEEN SIMULATED AVERADE TO DMEAN TO TREATMENT OR JUST CONTROL...\n",
    "KIRILL SAID WE DMEAN THE AVG. \n",
    "CHECK LECTURE\n",
    "\n",
    "\n",
    "*City-Level Controls (Qi):* \n",
    "For each city i, aggregate the Lk (# of links) of each line connected to that city - summary stats (sum, average, ...) = relevant measures of line-level characteristic Lk for all lines connected to a city.\n",
    "\n",
    "*Interpreting the Controls:* \n",
    "They represent the city's connectedness to the broader HSR network. A higher value indicates a city's connectedness by lines with more links = a higher level of integration into the network.\n",
    "\n",
    "*# of Controls:*\n",
    "The # of controls = # of different summary measures for Lk at the city level. \n",
    "\n",
    "*Reasoning for Including These Controls:*\n",
    "Helps to account for the influence of different HSR lines. Lines with more links might have a more significant impact on employment due to broader reach and stronger/larger integration to the network. "
   ]
  },
  {
   "cell_type": "code",
   "execution_count": 6,
   "id": "40ba7ced",
   "metadata": {},
   "outputs": [
    {
     "name": "stdout",
     "output_type": "stream",
     "text": [
      "   cityid      city_en city_cn province_en province_cn   latitude   longitude  \\\n",
      "0       5        benxi      本溪    liaoning          辽宁  41.290112  123.763660   \n",
      "1       6    jiayuguan     嘉峪关       gansu          甘肃  39.802452   98.272919   \n",
      "2       8  shennongjia     神农架       hubei          湖北  31.754316  110.676950   \n",
      "3       9      tianmen      天门       hubei          湖北  30.656250  113.164120   \n",
      "4      10        ezhou      鄂州       hubei          湖北  30.322286  114.726000   \n",
      "\n",
      "   empgrowth  dist_beijing  exposure_share  ...  nlinks_2  nlinks_3  nlinks_9  \\\n",
      "0  -0.034191     642.08984        0.012048  ...         1         0         0   \n",
      "1   0.316997    1541.75740        0.012048  ...         0         0         1   \n",
      "2        NaN    1043.39120        0.000000  ...         0         0         0   \n",
      "3        NaN    1071.33950        0.012048  ...         0         0         0   \n",
      "4        NaN    1078.81180        0.024096  ...         2         0         0   \n",
      "\n",
      "   nlinks_4  nlinks_5  nlinks_1  nlinks_18  nlinks_6  nlinks_7  nlinks_8  \n",
      "0         0         0         0          0         0         0         0  \n",
      "1         0         0         0          0         0         0         0  \n",
      "2         0         0         0          0         0         0         1  \n",
      "3         0         0         0          0         1         0         0  \n",
      "4         0         0         1          0         0         0         0  \n",
      "\n",
      "[5 rows x 21 columns]\n"
     ]
    }
   ],
   "source": [
    "# Creating dummy variables for each amount of links a city can have (using df_lines)\n",
    "for j in df_lines['nlinks'].unique():\n",
    "    df_lines[f'nlinks_{j}'] = (df_lines['nlinks'] == j).astype(int)\n",
    "    \n",
    "# Merging df_lines with df_stations\n",
    "df_stations_with_links = pd.merge(df_stations, df_lines[['lineid'] + [f'nlinks_{j}' for j in df_lines['nlinks'].unique()]], on='lineid')\n",
    "\n",
    "# Grouping by city and summing the dummies\n",
    "city_level_controls = df_stations_with_links.groupby('cityid')[[f'nlinks_{j}' for j in df_lines['nlinks'].unique()]].sum()\n",
    "\n",
    "# Merging the city-level controls with df_cities\n",
    "df_cities = pd.merge(df_cities, city_level_controls, on='cityid', how='left')\n",
    "\n",
    "# Printing first few rows (df_cities) to check our work\n",
    "print(df_cities.head())"
   ]
  },
  {
   "cell_type": "markdown",
   "id": "9d374a84",
   "metadata": {},
   "source": [
    "## This was the old version:"
   ]
  },
  {
   "cell_type": "code",
   "execution_count": 7,
   "id": "65cd4173",
   "metadata": {},
   "outputs": [],
   "source": [
    "# Merging df_lines with df_stations to link each city with the lines connected to it and the number of links of each line\n",
    "# df_cities_with_lines = pd.merge(df_stations, df_lines[['lineid', 'nlinks']], on='lineid')\n",
    "\n",
    "# Group by city and compute summary statistics (for # of links)\n",
    "# city_level_controls = df_cities_with_lines.groupby('cityid')['nlinks'].agg(['sum', 'mean', 'max', 'min'])\n",
    "# city_level_controls['range'] = city_level_controls['max'] - city_level_controls['min']\n",
    "# city_level_controls.rename(columns={'sum': 'sum_nlinks', 'mean': 'mean_nlinks', 'max': 'max_nlinks', 'min': 'min_nlinks', 'range': 'range_nlinks'}, inplace=True)\n",
    "\n",
    "# Add these information to df_cities\n",
    "# df_cities = pd.merge(df_cities, city_level_controls, on='cityid', how='left')\n",
    "\n",
    "# Check your work by showing the first rows\n",
    "# print(df_cities.head())"
   ]
  },
  {
   "cell_type": "markdown",
   "id": "bdf6c585",
   "metadata": {},
   "source": [
    "## 1-d) Control for Qi (instead of province FEs)\n",
    "Estimate (1) by OLS controlling for Qi instead of province fixed effects. Does including Qi change the estimates? Does your estimate rely on Assumptions A2 and A3?"
   ]
  },
  {
   "cell_type": "code",
   "execution_count": 8,
   "id": "8e767682",
   "metadata": {},
   "outputs": [
    {
     "name": "stdout",
     "output_type": "stream",
     "text": [
      "Index(['cityid', 'city_en', 'city_cn', 'province_en', 'province_cn',\n",
      "       'latitude', 'longitude', 'empgrowth', 'dist_beijing', 'exposure_share',\n",
      "       'delta_linesi', 'nlinks_2', 'nlinks_3', 'nlinks_9', 'nlinks_4',\n",
      "       'nlinks_5', 'nlinks_1', 'nlinks_18', 'nlinks_6', 'nlinks_7',\n",
      "       'nlinks_8'],\n",
      "      dtype='object')\n"
     ]
    }
   ],
   "source": [
    "# Print the column names of df_cities\n",
    "print(df_cities.columns)"
   ]
  },
  {
   "cell_type": "code",
   "execution_count": 9,
   "id": "4f0e77d5",
   "metadata": {},
   "outputs": [],
   "source": [
    "import pandas as pd\n",
    "\n",
    "# Merge df_lines with df_stations\n",
    "df_stations_with_links = pd.merge(df_stations, df_lines[['lineid', 'nlinks']], on='lineid')\n",
    "\n",
    "# Group by city and compute various summary statistics for the number of links\n",
    "city_level_controls = df_stations_with_links.groupby('cityid')['nlinks'].agg(['sum', 'mean', 'max', 'min'])\n",
    "city_level_controls['range'] = city_level_controls['max'] - city_level_controls['min']\n",
    "# No need to rename as we have already correct names from previous renaming\n",
    "# city_level_controls.rename(columns={'sum': 'sum_nlinks', 'mean': 'mean_nlinks', 'max': 'max_nlinks', 'min': 'min_nlinks', 'range': 'range_nlinks'}, inplace=True)\n",
    "\n",
    "# Merge city_level_controls with df_cities\n",
    "df_cities = pd.merge(df_cities, city_level_controls, on='cityid', how='left')\n"
   ]
  },
  {
   "cell_type": "code",
   "execution_count": 10,
   "id": "1a8d8b3f",
   "metadata": {},
   "outputs": [
    {
     "name": "stdout",
     "output_type": "stream",
     "text": [
      "                            OLS Regression Results                            \n",
      "==============================================================================\n",
      "Dep. Variable:              empgrowth   R-squared:                       0.140\n",
      "Model:                            OLS   Adj. R-squared:                  0.121\n",
      "Method:                 Least Squares   F-statistic:                     7.500\n",
      "Date:                Sat, 18 Nov 2023   Prob (F-statistic):           1.53e-06\n",
      "Time:                        21:33:09   Log-Likelihood:                 22.222\n",
      "No. Observations:                 236   AIC:                            -32.44\n",
      "Df Residuals:                     230   BIC:                            -11.66\n",
      "Df Model:                           5                                         \n",
      "Covariance Type:            nonrobust                                         \n",
      "================================================================================\n",
      "                   coef    std err          t      P>|t|      [0.025      0.975]\n",
      "--------------------------------------------------------------------------------\n",
      "Intercept        0.1912      0.032      5.998      0.000       0.128       0.254\n",
      "delta_linesi     0.0171      0.021      0.834      0.405      -0.023       0.058\n",
      "sum              0.0107      0.005      2.344      0.020       0.002       0.020\n",
      "mean             0.0464      0.027      1.701      0.090      -0.007       0.100\n",
      "max             -0.0243      0.013     -1.900      0.059      -0.049       0.001\n",
      "min             -0.0261      0.015     -1.773      0.078      -0.055       0.003\n",
      "range            0.0019      0.004      0.432      0.666      -0.007       0.010\n",
      "==============================================================================\n",
      "Omnibus:                        6.471   Durbin-Watson:                   1.823\n",
      "Prob(Omnibus):                  0.039   Jarque-Bera (JB):                6.174\n",
      "Skew:                           0.368   Prob(JB):                       0.0456\n",
      "Kurtosis:                       3.291   Cond. No.                     1.48e+16\n",
      "==============================================================================\n",
      "\n",
      "Notes:\n",
      "[1] Standard Errors assume that the covariance matrix of the errors is correctly specified.\n",
      "[2] The smallest eigenvalue is 2.72e-28. This might indicate that there are\n",
      "strong multicollinearity problems or that the design matrix is singular.\n"
     ]
    }
   ],
   "source": [
    "import statsmodels.api as sm\n",
    "import statsmodels.formula.api as smf\n",
    "\n",
    "# Define the regression\n",
    "formula = 'empgrowth ~ delta_linesi + sum + mean + max + min + range'\n",
    "\n",
    "# OLS \n",
    "model = smf.ols(formula, data=df_cities).fit()\n",
    "\n",
    "# Print regression summary \n",
    "print(model.summary())"
   ]
  },
  {
   "cell_type": "code",
   "execution_count": 13,
   "id": "aded89bb",
   "metadata": {},
   "outputs": [
    {
     "name": "stdout",
     "output_type": "stream",
     "text": [
      "                            OLS Regression Results                            \n",
      "==============================================================================\n",
      "Dep. Variable:              empgrowth   R-squared:                       0.140\n",
      "Model:                            OLS   Adj. R-squared:                  0.121\n",
      "Method:                 Least Squares   F-statistic:                     6.904\n",
      "Date:                Sat, 18 Nov 2023   Prob (F-statistic):           5.02e-06\n",
      "Time:                        21:34:17   Log-Likelihood:                 22.222\n",
      "No. Observations:                 236   AIC:                            -32.44\n",
      "Df Residuals:                     230   BIC:                            -11.66\n",
      "Df Model:                           5                                         \n",
      "Covariance Type:                  HC3                                         \n",
      "================================================================================\n",
      "                   coef    std err          z      P>|z|      [0.025      0.975]\n",
      "--------------------------------------------------------------------------------\n",
      "Intercept        0.1912      0.033      5.871      0.000       0.127       0.255\n",
      "delta_linesi     0.0171      0.021      0.818      0.413      -0.024       0.058\n",
      "sum              0.0107      0.004      2.445      0.015       0.002       0.019\n",
      "mean             0.0464      0.030      1.532      0.126      -0.013       0.106\n",
      "max             -0.0243      0.014     -1.742      0.082      -0.052       0.003\n",
      "min             -0.0261      0.016     -1.613      0.107      -0.058       0.006\n",
      "range            0.0019      0.004      0.463      0.643      -0.006       0.010\n",
      "==============================================================================\n",
      "Omnibus:                        6.471   Durbin-Watson:                   1.823\n",
      "Prob(Omnibus):                  0.039   Jarque-Bera (JB):                6.174\n",
      "Skew:                           0.368   Prob(JB):                       0.0456\n",
      "Kurtosis:                       3.291   Cond. No.                     1.48e+16\n",
      "==============================================================================\n",
      "\n",
      "Notes:\n",
      "[1] Standard Errors are heteroscedasticity robust (HC3)\n",
      "[2] The smallest eigenvalue is 2.72e-28. This might indicate that there are\n",
      "strong multicollinearity problems or that the design matrix is singular.\n"
     ]
    },
    {
     "name": "stderr",
     "output_type": "stream",
     "text": [
      "C:\\Users\\MSalman\\anaconda3\\Lib\\site-packages\\statsmodels\\base\\model.py:1888: ValueWarning: covariance of constraints does not have full rank. The number of constraints is 6, but rank is 5\n",
      "  warnings.warn('covariance of constraints does not have full '\n"
     ]
    }
   ],
   "source": [
    "import statsmodels.api as sm\n",
    "import statsmodels.formula.api as smf\n",
    "\n",
    "# OLS with Qi controls\n",
    "model_with_qi = smf.ols('empgrowth ~ delta_linesi + sum + mean + max + min + range', data=df_cities).fit(cov_type='HC3')\n",
    "print(model_with_qi.summary())"
   ]
  },
  {
   "cell_type": "code",
   "execution_count": 14,
   "id": "59e99bc4",
   "metadata": {},
   "outputs": [],
   "source": [
    "# The warning above indicates that we have a multi-collinearity "
   ]
  },
  {
   "cell_type": "code",
   "execution_count": 16,
   "id": "7447f7ab",
   "metadata": {},
   "outputs": [
    {
     "data": {
      "text/plain": [
       "<Axes: >"
      ]
     },
     "execution_count": 16,
     "metadata": {},
     "output_type": "execute_result"
    },
    {
     "data": {
      "image/png": "[encoded data removed]",
      "text/plain": [
       "<Figure size 640x480 with 2 Axes>"
      ]
     },
     "metadata": {},
     "output_type": "display_data"
    }
   ],
   "source": [
    "# Check correlations\n",
    "import seaborn as sns\n",
    "\n",
    "# Correlation matrix\n",
    "corr_matrix = df_cities[['delta_linesi', 'sum', 'mean', 'max', 'min', 'range']].corr()\n",
    "sns.heatmap(corr_matrix, annot=True)"
   ]
  },
  {
   "cell_type": "code",
   "execution_count": 18,
   "id": "330707ab",
   "metadata": {},
   "outputs": [
    {
     "name": "stdout",
     "output_type": "stream",
     "text": [
      "   VIF Factor      features\n",
      "0    5.073898  delta_linesi\n",
      "1   15.211936           sum\n",
      "2   97.315432          mean\n",
      "3         inf           max\n",
      "4         inf           min\n",
      "5         inf         range\n"
     ]
    },
    {
     "name": "stderr",
     "output_type": "stream",
     "text": [
      "C:\\Users\\MSalman\\anaconda3\\Lib\\site-packages\\statsmodels\\stats\\outliers_influence.py:198: RuntimeWarning: divide by zero encountered in scalar divide\n",
      "  vif = 1. / (1. - r_squared_i)\n"
     ]
    }
   ],
   "source": [
    "# Calculate the Variance Inflation Factor for each variable. \n",
    "# VIF > 5 or 10 --> high multicollinearity.\n",
    "from statsmodels.stats.outliers_influence import variance_inflation_factor\n",
    "\n",
    "# VIF calculation\n",
    "variables = df_cities[['delta_linesi', 'sum', 'mean', 'max', 'min', 'range']]\n",
    "vif = pd.DataFrame()\n",
    "vif[\"VIF Factor\"] = [variance_inflation_factor(variables.values, i) for i in range(variables.shape[1])]\n",
    "vif[\"features\"] = variables.columns\n",
    "print(vif)"
   ]
  },
  {
   "cell_type": "code",
   "execution_count": 19,
   "id": "a8931d6e",
   "metadata": {},
   "outputs": [
    {
     "name": "stdout",
     "output_type": "stream",
     "text": [
      "   VIF Factor      features\n",
      "0    4.818947  delta_linesi\n",
      "1    7.796525           sum\n",
      "2    3.059569          mean\n"
     ]
    }
   ],
   "source": [
    "# The warning above indicates that there is perfect multicollinearity among the IVs\n",
    "\n",
    "from statsmodels.stats.outliers_influence import variance_inflation_factor\n",
    "# Assuming you've removed some variables from df_cities\n",
    "variables = df_cities[['delta_linesi', 'sum', 'mean']]  # Adjust this line based on the variables you decide to keep\n",
    "vif = pd.DataFrame()\n",
    "vif[\"VIF Factor\"] = [variance_inflation_factor(variables.values, i) for i in range(variables.shape[1])]\n",
    "vif[\"features\"] = variables.columns\n",
    "print(vif)"
   ]
  },
  {
   "cell_type": "code",
   "execution_count": 20,
   "id": "b42c7acd",
   "metadata": {},
   "outputs": [],
   "source": [
    "# This process is iterative. We have to try different combinations of variables to find a model \n",
    "# that does not suffer from multicollinearity."
   ]
  },
  {
   "cell_type": "markdown",
   "id": "f0848a69",
   "metadata": {},
   "source": [
    "*Interpretation of the VIF values:*\n",
    "delta_linesi: VIF = 4.82 < 5 --> no multicollinearity \n",
    "sum_nlinks: VIF = 7.80 > 5 < 10 --> Moderate multicollinearity\n",
    "mean_nlinks: VIF = 3.06. < 5 --> no multicollinearity\n",
    "\n",
    "*Next Steps:*\n",
    "\n",
    "sum_nlinks has a VIF above 5. Exploring the impact of removing or adjusting this variable in my model could yield valuable. It is not far above 5. Thus, whether I'll remove it depends on the importance of sum_nlinks in my model.\n",
    "\n",
    "If sum_nlinks is a crucial variable for your analysis and theoretical framework, you might decide to retain it despite the moderate multicollinearity. Alternatively, you could consider combining sum_nlinks with another variable (like mean_nlinks) or transforming it to reduce multicollinearity.\n",
    "Model Decision:\n",
    "\n",
    "The decision to iterate further and modify your model depends on the balance between statistical rigor and the practical importance of each variable in your analysis. If your model's predictive power and interpretability are not significantly hampered by the current level of multicollinearity, you may choose to proceed with the existing model.\n",
    "In summary, your VIF results suggest a moderate multicollinearity issue with sum_nlinks. The decision to address this by modifying your model depends on the context and purpose of your analysis. If sum_nlinks is important for your theoretical framework or analysis objectives, you might justify keeping it in the model. If not, consider removing it or exploring other ways to reduce its multicollinearity."
   ]
  },
  {
   "cell_type": "markdown",
   "id": "2e7d4891",
   "metadata": {},
   "source": [
    "## 1-e) Balance Tests\n",
    "- For each line, pset3_lines reports the operational speed (in km/h). \n",
    "- For each city, pset3_cities reports the distance from city i to Beijing (in km). \n",
    "- Use these variables to run balance tests. \n",
    "- Describe the procedures and which assumption(s) you are testing in each case. \n",
    "- Suggest another test that would be helpful to perform if you had the necessary data."
   ]
  },
  {
   "cell_type": "markdown",
   "id": "f8a60471",
   "metadata": {},
   "source": [
    "### Balance Test Using Operational Speed"
   ]
  },
  {
   "cell_type": "code",
   "execution_count": 21,
   "id": "19e17806",
   "metadata": {},
   "outputs": [
    {
     "name": "stdout",
     "output_type": "stream",
     "text": [
      "T-test results: T-statistic = 0.8839113627309639, P-value = 0.37765131692866305\n"
     ]
    }
   ],
   "source": [
    "import pandas as pd\n",
    "from scipy.stats import ttest_ind\n",
    "\n",
    "# Define a threshold speed to categorize high-speed lines, e.g. 250 km/h\n",
    "speed_threshold = 250 \n",
    "\n",
    "# Determine if each line is high-speed or not\n",
    "df_lines['is_high_speed'] = df_lines['speed'] >= speed_threshold\n",
    "\n",
    "# Find cities connected to high-speed lines\n",
    "high_speed_cities = df_stations[df_stations['lineid'].isin(df_lines[df_lines['is_high_speed']]['lineid'])]['cityid'].unique()\n",
    "\n",
    "# Create a new column in df_cities to indicate if a city is connected to a high-speed line\n",
    "df_cities['connected_to_high_speed'] = df_cities['cityid'].isin(high_speed_cities)\n",
    "\n",
    "# Conduct a t-test to compare a characteristic (e.g., empgrowth) between the two groups\n",
    "high_speed_cities_data = df_cities[df_cities['connected_to_high_speed']]['empgrowth']\n",
    "low_speed_cities_data = df_cities[~df_cities['connected_to_high_speed']]['empgrowth']\n",
    "\n",
    "t_stat, p_value = ttest_ind(high_speed_cities_data.dropna(), low_speed_cities_data.dropna())\n",
    "\n",
    "print(f'T-test results: T-statistic = {t_stat}, P-value = {p_value}')"
   ]
  },
  {
   "cell_type": "markdown",
   "id": "7a77f546",
   "metadata": {},
   "source": [
    "The high p-value (0.4 > 0.05) indicates no or an insignificant difference between the groups, suggesting balance."
   ]
  },
  {
   "cell_type": "markdown",
   "id": "42ee02f6",
   "metadata": {},
   "source": [
    "### Balance Test Using Distance from Beijing"
   ]
  },
  {
   "cell_type": "code",
   "execution_count": 22,
   "id": "45fae676",
   "metadata": {},
   "outputs": [
    {
     "name": "stdout",
     "output_type": "stream",
     "text": [
      "T-test results: T-statistic = -3.0030683818101194, P-value = 0.0029629478856092353\n"
     ]
    }
   ],
   "source": [
    "# Define a distance threshold to categorize cities based on their distance from Beijing, e.g. 500 km\n",
    "distance_threshold = 500  \n",
    "\n",
    "# Create a new column in df_cities to indicate if a city is close to Beijing\n",
    "df_cities['close_to_beijing'] = df_cities['dist_beijing'] <= distance_threshold\n",
    "\n",
    "# Conduct a t-test to compare a characteristic (e.g., empgrowth) between cities close to and far from Beijing\n",
    "close_cities_data = df_cities[df_cities['close_to_beijing']]['empgrowth']\n",
    "far_cities_data = df_cities[~df_cities['close_to_beijing']]['empgrowth']\n",
    "\n",
    "t_stat, p_value = ttest_ind(close_cities_data.dropna(), far_cities_data.dropna())\n",
    "\n",
    "print(f'T-test results: T-statistic = {t_stat}, P-value = {p_value}')"
   ]
  },
  {
   "cell_type": "markdown",
   "id": "86409909",
   "metadata": {},
   "source": [
    "The low p-value (0.003 < 0.05) indicates a significant difference between the groups, suggesting potential imbalance."
   ]
  },
  {
   "cell_type": "markdown",
   "id": "7bc7e782",
   "metadata": {},
   "source": [
    "### Interpretation\n",
    "The t-test results in the balance tests above help assess whether there are significant differences in employment growth between different groups of cities. \n",
    "For cities connected by high-speed versus lower-speed railway lines, the high t-value suggests that these two groups of cities do not systematically in terms of employment growth. This means that they are balanced \n",
    "The comparison of cities based on their distance from Beijing aims to identify a potential correlation between proximity to the capital with differences in employment growth. \n",
    "\n",
    "These tests help verify the unconfoundedness assumption. Significant differences mean that confounding variables are present. This would require us to adjust our analytical models. Overall, the balance test helps assess whether the groups can be used in my study, and if they are comparable pre-treatment. "
   ]
  },
  {
   "cell_type": "markdown",
   "id": "629675cb",
   "metadata": {},
   "source": [
    "## 1-f) Spacial Data Vis\n",
    "When working with spatial data, visualizing main variables on a map is invaluable. \n",
    "- Display ΔLinesi on the map of China’s regions to visualize your treatment\n",
    "- Confirm that what you see is consistent with the map of opened lines in Figure 1A of BH\n",
    "- Then make a map for ΔLinesi after residualizing on Qi to visualize the identifying variation, making it clear which regions are in the “treated group” (in the sense of a positive treatment residual), which are in the “control group,” and which have missing data. (You do not have to make the maps pretty. In Stata, packages shp2dta and spmap are sufficient for this simple tasks. I imagine similar packages exist for R and Python but, if not, doing this part in one language is enough.5)"
   ]
  },
  {
   "cell_type": "code",
   "execution_count": 24,
   "id": "c2664027",
   "metadata": {},
   "outputs": [
    {
     "name": "stdout",
     "output_type": "stream",
     "text": [
      "Requirement already satisfied: geopandas in c:\\users\\msalman\\anaconda3\\lib\\site-packages (0.14.1)\n",
      "Requirement already satisfied: fiona>=1.8.21 in c:\\users\\msalman\\anaconda3\\lib\\site-packages (from geopandas) (1.9.5)\n",
      "Requirement already satisfied: packaging in c:\\users\\msalman\\anaconda3\\lib\\site-packages (from geopandas) (23.1)\n",
      "Requirement already satisfied: pandas>=1.4.0 in c:\\users\\msalman\\anaconda3\\lib\\site-packages (from geopandas) (2.0.3)\n",
      "Requirement already satisfied: pyproj>=3.3.0 in c:\\users\\msalman\\anaconda3\\lib\\site-packages (from geopandas) (3.6.1)\n",
      "Requirement already satisfied: shapely>=1.8.0 in c:\\users\\msalman\\anaconda3\\lib\\site-packages (from geopandas) (2.0.2)\n",
      "Requirement already satisfied: attrs>=19.2.0 in c:\\users\\msalman\\anaconda3\\lib\\site-packages (from fiona>=1.8.21->geopandas) (22.1.0)\n",
      "Requirement already satisfied: certifi in c:\\users\\msalman\\anaconda3\\lib\\site-packages (from fiona>=1.8.21->geopandas) (2023.7.22)\n",
      "Requirement already satisfied: click~=8.0 in c:\\users\\msalman\\anaconda3\\lib\\site-packages (from fiona>=1.8.21->geopandas) (8.0.4)\n",
      "Requirement already satisfied: click-plugins>=1.0 in c:\\users\\msalman\\anaconda3\\lib\\site-packages (from fiona>=1.8.21->geopandas) (1.1.1)\n",
      "Requirement already satisfied: cligj>=0.5 in c:\\users\\msalman\\anaconda3\\lib\\site-packages (from fiona>=1.8.21->geopandas) (0.7.2)\n",
      "Requirement already satisfied: six in c:\\users\\msalman\\anaconda3\\lib\\site-packages (from fiona>=1.8.21->geopandas) (1.16.0)\n",
      "Requirement already satisfied: setuptools in c:\\users\\msalman\\anaconda3\\lib\\site-packages (from fiona>=1.8.21->geopandas) (68.0.0)\n",
      "Requirement already satisfied: python-dateutil>=2.8.2 in c:\\users\\msalman\\anaconda3\\lib\\site-packages (from pandas>=1.4.0->geopandas) (2.8.2)\n",
      "Requirement already satisfied: pytz>=2020.1 in c:\\users\\msalman\\anaconda3\\lib\\site-packages (from pandas>=1.4.0->geopandas) (2023.3.post1)\n",
      "Requirement already satisfied: tzdata>=2022.1 in c:\\users\\msalman\\anaconda3\\lib\\site-packages (from pandas>=1.4.0->geopandas) (2023.3)\n",
      "Requirement already satisfied: numpy>=1.21.0 in c:\\users\\msalman\\anaconda3\\lib\\site-packages (from pandas>=1.4.0->geopandas) (1.24.3)\n",
      "Requirement already satisfied: colorama in c:\\users\\msalman\\anaconda3\\lib\\site-packages (from click~=8.0->fiona>=1.8.21->geopandas) (0.4.6)\n",
      "Note: you may need to restart the kernel to use updated packages.\n"
     ]
    }
   ],
   "source": [
    "pip install geopandas"
   ]
  },
  {
   "cell_type": "code",
   "execution_count": null,
   "id": "3ba639e3",
   "metadata": {},
   "outputs": [],
   "source": []
  },
  {
   "cell_type": "code",
   "execution_count": 29,
   "id": "43c9eff1",
   "metadata": {},
   "outputs": [
    {
     "ename": "NameError",
     "evalue": "name 'gdf' is not defined",
     "output_type": "error",
     "traceback": [
      "\u001b[1;31m---------------------------------------------------------------------------\u001b[0m",
      "\u001b[1;31mNameError\u001b[0m                                 Traceback (most recent call last)",
      "Cell \u001b[1;32mIn[29], line 1\u001b[0m\n\u001b[1;32m----> 1\u001b[0m gdf_merged \u001b[38;5;241m=\u001b[39m gdf\u001b[38;5;241m.\u001b[39mmerge(df_cities[[\u001b[38;5;124m'\u001b[39m\u001b[38;5;124mcityid\u001b[39m\u001b[38;5;124m'\u001b[39m, \u001b[38;5;124m'\u001b[39m\u001b[38;5;124mdelta_linesi\u001b[39m\u001b[38;5;124m'\u001b[39m]], left_on\u001b[38;5;241m=\u001b[39m\u001b[38;5;124m'\u001b[39m\u001b[38;5;124mregion_key\u001b[39m\u001b[38;5;124m'\u001b[39m, right_on\u001b[38;5;241m=\u001b[39m\u001b[38;5;124m'\u001b[39m\u001b[38;5;124mcityid\u001b[39m\u001b[38;5;124m'\u001b[39m, how\u001b[38;5;241m=\u001b[39m\u001b[38;5;124m'\u001b[39m\u001b[38;5;124mleft\u001b[39m\u001b[38;5;124m'\u001b[39m)\n\u001b[0;32m      2\u001b[0m \u001b[38;5;28;01mimport\u001b[39;00m \u001b[38;5;21;01mmatplotlib\u001b[39;00m\u001b[38;5;21;01m.\u001b[39;00m\u001b[38;5;21;01mpyplot\u001b[39;00m \u001b[38;5;28;01mas\u001b[39;00m \u001b[38;5;21;01mplt\u001b[39;00m\n\u001b[0;32m      4\u001b[0m \u001b[38;5;66;03m# Plotting ΔLinesi\u001b[39;00m\n\u001b[0;32m      5\u001b[0m \u001b[38;5;66;03m# gdf_merged.plot(column='delta_linesi', legend=True, cmap='viridis')\u001b[39;00m\n\u001b[0;32m      6\u001b[0m \u001b[38;5;66;03m# plt.title('ΔLinesi Across China’s Regions')\u001b[39;00m\n\u001b[0;32m      7\u001b[0m \u001b[38;5;66;03m# plt.show()\u001b[39;00m\n",
      "\u001b[1;31mNameError\u001b[0m: name 'gdf' is not defined"
     ]
    }
   ],
   "source": [
    "gdf_merged = gdf.merge(df_cities[['cityid', 'delta_linesi']], left_on='region_key', right_on='cityid', how='left')\n",
    "import matplotlib.pyplot as plt\n",
    "\n",
    "# Plotting ΔLinesi\n",
    "# gdf_merged.plot(column='delta_linesi', legend=True, cmap='viridis')\n",
    "# plt.title('ΔLinesi Across China’s Regions')\n",
    "# plt.show()\n",
    "\n",
    "gdf_merged = gdf.merge(df_cities[['cityid', 'delta_linesi']], left_on='your_shapefile_region_identifier', right_on='cityid', how='left')\n",
    "gdf_merged.plot(column='delta_linesi', legend=True, cmap='viridis')\n",
    "plt.title('ΔLinesi Across China’s Regions')\n",
    "plt.show()"
   ]
  },
  {
   "cell_type": "code",
   "execution_count": null,
   "id": "4386be04",
   "metadata": {},
   "outputs": [],
   "source": []
  },
  {
   "cell_type": "code",
   "execution_count": null,
   "id": "b08c14fd",
   "metadata": {},
   "outputs": [],
   "source": []
  },
  {
   "cell_type": "code",
   "execution_count": null,
   "id": "4cc00029",
   "metadata": {},
   "outputs": [],
   "source": []
  },
  {
   "cell_type": "code",
   "execution_count": null,
   "id": "7d7950de",
   "metadata": {},
   "outputs": [],
   "source": []
  },
  {
   "cell_type": "code",
   "execution_count": null,
   "id": "7ff47379",
   "metadata": {},
   "outputs": [],
   "source": []
  },
  {
   "cell_type": "code",
   "execution_count": null,
   "id": "27d0e01d",
   "metadata": {},
   "outputs": [],
   "source": []
  },
  {
   "cell_type": "code",
   "execution_count": 26,
   "id": "a4fd2b1f",
   "metadata": {},
   "outputs": [],
   "source": [
    "# gdf = gpd.read_file('chn_admbnda_adm2_ocha.shp')\n",
    "# print(gdf.columns)"
   ]
  },
  {
   "cell_type": "markdown",
   "id": "452449c2",
   "metadata": {},
   "source": [
    "### Vis delta Lines"
   ]
  },
  {
   "cell_type": "markdown",
   "id": "4ae1e8db",
   "metadata": {},
   "source": [
    "... tbd"
   ]
  },
  {
   "cell_type": "markdown",
   "id": "341b28eb",
   "metadata": {},
   "source": [
    "## 3. Include nearby passing lines\n",
    "You recognize that lines that do not pass through city i but pass nearby may still boost i’s economy. Your friend proposes to model the employment effects of the HSR system as\n",
    "\n",
    "*Yi = τ2 log NDi + εi,* (2)\n",
    "\n",
    "where logNDi is the log-distance from i to the nearest city with a HSR. \n",
    "(To make sure logNDi is well-defined for cities directly connected to a HSR, we measure the distance between i and itself not as a zero but as a positive number based on city size, capturing the distance between different points within the city. This is the measure you have in the data.)\n",
    "\n",
    "### 3-a) Reasoning\n",
    "Provide reasons why specification (2) may still not be great at capturing the effects of railways."
   ]
  },
  {
   "cell_type": "markdown",
   "id": "e7b4de25",
   "metadata": {},
   "source": [
    "#### Response:\n",
    "Specification (2) attempts to include the impact of HSR proximity on employment. \n",
    "\n",
    "The mere proximity (log-distance=logNDi) to the nearest HSR neglects its actual usage due to e.g. workplaces and educational institutions. Furthermore, there may be confounding variables not considered in this model: HSR is likely only one mode of transportation and the model may neglects last mile mobiliy options that can be crucial for workplace commute. \n",
    "\n",
    "The models proposed in this paper may fail to consider threshold effects (e.g. if  there is a minimum level of access or distance to HSR necessary before any significant economic impact can be measured). \n",
    "\n",
    "The models do not consider time lagged economic impacts. E.g. improvements in the transportation system may attract private sector investments into local workplaces or schools. \n",
    "\n",
    "The models do not account for differences in HSR characteristics, such as quality of service or socioeconomic variables and demographic factors."
   ]
  },
  {
   "cell_type": "markdown",
   "id": "d0a29459",
   "metadata": {},
   "source": [
    "### 3-b) Compute without controls & explain\n",
    "- Still, let’s try it out. Compute logNDi and estimate (2) by OLS without controls.\n",
    "- Explain why this OLS may not be causal even if the specification is correct."
   ]
  },
  {
   "cell_type": "markdown",
   "id": "4debfef3",
   "metadata": {},
   "source": [
    "# IGNORE MY ATTEMPT AT 3-b lol..."
   ]
  },
  {
   "cell_type": "code",
   "execution_count": null,
   "id": "e74fc475",
   "metadata": {},
   "outputs": [],
   "source": [
    "# List column names\n",
    "df_cities.columns"
   ]
  },
  {
   "cell_type": "code",
   "execution_count": null,
   "id": "f52e05a4",
   "metadata": {},
   "outputs": [],
   "source": [
    "df_distances.columns"
   ]
  },
  {
   "cell_type": "code",
   "execution_count": null,
   "id": "3f27e056",
   "metadata": {},
   "outputs": [],
   "source": [
    "df_lines.columns"
   ]
  },
  {
   "cell_type": "code",
   "execution_count": null,
   "id": "c47a155a",
   "metadata": {},
   "outputs": [],
   "source": [
    "df_stations.columns"
   ]
  },
  {
   "cell_type": "markdown",
   "id": "ffde9d42",
   "metadata": {},
   "source": [
    "#### Iterate through each city in df_cities and calculate the distance to every city that has a HSR station (identified by hsr_cities). Then, find the minimum of these distances. "
   ]
  },
  {
   "cell_type": "code",
   "execution_count": null,
   "id": "2310f56a",
   "metadata": {},
   "outputs": [],
   "source": [
    "# Function to calculate the distance from a city to the nearest HSR city\n",
    "def calculate_nearest_hsr_distance(city_id, hsr_cities, df_distances):\n",
    "\n",
    "    # Filter distances where the city is either cityid1 or cityid2\n",
    "distances = df_distances[((df_distances['cityid1'] == city_id) & (df_distances['cityid2'].isin(hsr_cities))) | \n",
    "                             ((df_distances['cityid2'] == city_id) & (df_distances['cityid1'].isin(hsr_cities)))]\n",
    "\n",
    "# Return the minimum distance\n",
    "return distances['dist'].min()\n",
    "\n",
    "# Applying the function to each city in df_cities\n",
    "df_cities['nearest_hsr_distance'] = df_cities['cityid'].apply(lambda x: calculate_nearest_hsr_distance(x, hsr_cities, df_distances))\n",
    "\n",
    "# Compute logNDi\n",
    "df_cities['logNDi'] = np.log(df_cities['nearest_hsr_distance'] + 1)  # Added 1 to avoid log(0)\n"
   ]
  },
  {
   "cell_type": "markdown",
   "id": "3c0c166b",
   "metadata": {},
   "source": [
    "#### Compute logNDi"
   ]
  },
  {
   "cell_type": "code",
   "execution_count": null,
   "id": "af3ce74d",
   "metadata": {},
   "outputs": [],
   "source": [
    "import numpy as np\n",
    "import pandas as pd\n",
    "import statsmodels.api as sm\n",
    "\n",
    "# Step 1: Identify cities with a HSR station\n",
    "hsr_cities = df_stations[df_stations['lineid'].isin(df_lines[df_lines['is_high_speed']]['lineid'])]['cityid'].unique()\n",
    "\n",
    "# Step 2: Calculate the distance from each city to the nearest HSR city\n",
    "# This is a placeholder for the actual distance calculation logic\n",
    "# Replace it with your actual method of computing the nearest HSR city distance\n",
    "df_cities['nearest_hsr_distance'] = [calculate_nearest_hsr_distance(city, hsr_cities, df_distances) for city in df_cities['cityid']]\n",
    "\n",
    "# Step 3: Compute logNDi\n",
    "df_cities['logNDi'] = np.log(df_cities['nearest_hsr_distance'])\n",
    "print()"
   ]
  },
  {
   "cell_type": "markdown",
   "id": "93847520",
   "metadata": {},
   "source": [
    "#### OLS"
   ]
  },
  {
   "cell_type": "code",
   "execution_count": null,
   "id": "1448e77c",
   "metadata": {},
   "outputs": [],
   "source": [
    "# Defining the dependent and independent variables\n",
    "X = sm.add_constant(df_cities['logNDi'])  # Independent variable\n",
    "Y = df_cities['empgrowth']  # Dependent variable\n",
    "\n",
    "# Performing the OLS regression\n",
    "model = sm.OLS(Y, X).fit()\n",
    "\n",
    "# Print out the summary\n",
    "print(model.summary())"
   ]
  },
  {
   "cell_type": "markdown",
   "id": "c3574432",
   "metadata": {},
   "source": [
    "#### Why the OLS May Not Be Causal\n",
    "Problems with establishing a causal relationship:\n",
    "\n",
    "OVB\n",
    "Confounding variables: Another variable actually causes the effect.\n",
    "\n",
    "Reversed Causality: Cities with higher employment growth may be more likely to be closer to HSR stations. \n",
    "\n",
    "Endogeneity: Locations for HSR stations might not chosed randomly, but at economically relevant areas, or areas with certain demographics or socioeconomic structures. \n",
    "\n",
    "Time-Lagged Effects (same as above)."
   ]
  },
  {
   "cell_type": "markdown",
   "id": "9204c2bc",
   "metadata": {},
   "source": [
    "### 3-c) Counterfactual Networks\n",
    "- Briefly describe how Assumptions A1–A3 allow you to construct counterfactual 2016 railway networks (i.e., sets of lines) that were as likely to have happened as the realized network. \n",
    "- Simulate 999 such counterfactual networks; make sure to set a seed, such that your results can be exactly reproduced. \n",
    "- Compute logNDi for each city in each simulation and average it across your simulations. We denote this average by μi. \n",
    "- Report two corrected estimates of τ2: recentering by and controlling for μi. \n",
    "- Are they very different from your estimate in 3(b)? \n",
    "- What do you learn from this?"
   ]
  },
  {
   "cell_type": "code",
   "execution_count": null,
   "id": "1464b744",
   "metadata": {},
   "outputs": [],
   "source": []
  }
 ],
 "metadata": {
  "kernelspec": {
   "display_name": "Python 3 (ipykernel)",
   "language": "python",
   "name": "python3"
  },
  "language_info": {
   "codemirror_mode": {
    "name": "ipython",
    "version": 3
   },
   "file_extension": ".py",
   "mimetype": "text/x-python",
   "name": "python",
   "nbconvert_exporter": "python",
   "pygments_lexer": "ipython3",
   "version": "3.11.5"
  }
 },
 "nbformat": 4,
 "nbformat_minor": 5
}
