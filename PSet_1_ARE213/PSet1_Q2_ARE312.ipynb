{
 "cells": [
  {
   "cell_type": "code",
   "execution_count": 5,
   "id": "0d444278",
   "metadata": {},
   "outputs": [],
   "source": [
    "import pandas as pd\n",
    "import numpy as np\n",
    "#import data packages"
   ]
  },
  {
   "cell_type": "code",
   "execution_count": 6,
   "id": "a99d5a69",
   "metadata": {},
   "outputs": [],
   "source": [
    "data = pd.read_csv('clean_pset1.csv')"
   ]
  },
  {
   "cell_type": "code",
   "execution_count": 9,
   "id": "b3b5fa33",
   "metadata": {},
   "outputs": [
    {
     "name": "stdout",
     "output_type": "stream",
     "text": [
      "-240.47781100396332\n",
      "4.6266507330346105\n"
     ]
    }
   ],
   "source": [
    "#calculate mean diff\n",
    "mean_dif = data[data['tobacco'] == 1]['dbrwt'].mean() - data[data['tobacco'] == 0]['dbrwt'].mean()\n",
    "print(mean_dif)   \n",
    "#calculate se for means\n",
    "se = mean_dif = np.sqrt((float(data[data['tobacco'] == 1]['dbrwt'].std())**2)/float(data[data['tobacco'] == 1]['dbrwt'].size) + \n",
    "                        float((data[data['tobacco'] == 0]['dbrwt'].std())**2)/float(data[data['tobacco']==0]['dbrwt'].size))\n",
    "print(se)                                                                                                                                                                                                                                                              "
   ]
  },
  {
   "cell_type": "code",
   "execution_count": 8,
   "id": "03cff4f9",
   "metadata": {},
   "outputs": [],
   "source": [
    "#variable classification\n",
    "\n",
    "\n",
    "#outcome\n",
    "y = ['dbrwt']\n",
    "#treatment\n",
    "D = ['tobacco']\n",
    "#cor with y and D\n",
    "x1 = ['alcohol', 'mrace3_2', 'mrace3_3', 'ormothhis', 'adeq_2.0', 'adeq_3.0', 'cardiac', 'pre4000', 'phyper',  \n",
    "     'diabetes', 'anemia', 'lung', 'dlivord', 'educ_0.0', 'educ_1.0', 'educ_2.0', 'dgestat', 'dmage', 'dmar']\n",
    "#cor with D not y\n",
    "x2 = []\n",
    "#cor with y not D\n",
    "x3 = ['csex', 'tot_2.0','tot_3.0','tot_4.0','tot_5.0','tot_6.0','tot_7.0','tot_8.0', 'live_1.0', 'live_2.0', \n",
    "      'live_3.0','live_4.0','live_5.0','live_6.0','live_7.0','live_8.0','live_9.0', \n",
    "     'plur_1']"
   ]
  },
  {
   "cell_type": "code",
   "execution_count": null,
   "id": "5f3c5f38",
   "metadata": {},
   "outputs": [],
   "source": []
  }
 ],
 "metadata": {
  "kernelspec": {
   "display_name": "Python 3",
   "language": "python",
   "name": "python3"
  },
  "language_info": {
   "codemirror_mode": {
    "name": "ipython",
    "version": 3
   },
   "file_extension": ".py",
   "mimetype": "text/x-python",
   "name": "python",
   "nbconvert_exporter": "python",
   "pygments_lexer": "ipython3",
   "version": "3.8.8"
  }
 },
 "nbformat": 4,
 "nbformat_minor": 5
}
