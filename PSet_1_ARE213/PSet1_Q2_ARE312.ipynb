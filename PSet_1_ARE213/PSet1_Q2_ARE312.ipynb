{
 "cells": [
  {
   "cell_type": "code",
   "execution_count": 1,
   "id": "0d444278",
   "metadata": {},
   "outputs": [],
   "source": [
    "import pandas as pd\n",
    "import numpy as np\n",
    "#import data packages"
   ]
  },
  {
   "cell_type": "code",
   "execution_count": 2,
   "id": "a99d5a69",
   "metadata": {},
   "outputs": [],
   "source": [
    "data = pd.read_csv('clean_pset1.csv')"
   ]
  },
  {
   "cell_type": "code",
   "execution_count": 3,
   "id": "b3b5fa33",
   "metadata": {},
   "outputs": [
    {
     "name": "stdout",
     "output_type": "stream",
     "text": [
      "-240.47781100396332\n",
      "6.026371050904505\n"
     ]
    }
   ],
   "source": [
    "#calculate mean diff\n",
    "mean_dif = data[data['tobacco'] == 1]['dbrwt'].mean() - data[data['tobacco'] == 0]['dbrwt'].mean()\n",
    "print(mean_dif)   \n",
    "#calculate se for means\n",
    "se = mean_dif = np.sqrt((float(data[data['tobacco'] == 1]['dbrwt'].std())**2)/float(data[data['tobacco'] == 1]['dbrwt'].size) + \n",
    "                        float((data[data['tobacco'] == 0]['dbrwt'].std())**2)/float(data[data['tobacco']==1]['dbrwt'].size))\n",
    "print(se)                                                                                                                                                                                                                                                              "
   ]
  },
  {
   "cell_type": "code",
   "execution_count": 4,
   "id": "03cff4f9",
   "metadata": {},
   "outputs": [],
   "source": [
    "#variable classification\n",
    "\n",
    "#outcome\n",
    "y = ['dbrwt']\n",
    "#treatment\n",
    "D = ['tobacco', 'cigar6']\n",
    "#cor with y and D\n",
    "x1 = ['alcohol', 'mrace3_2', 'mrace3_3', 'ormothhis', 'adequacy', 'cardiac', 'pre4000', 'phyper', 'chyper', \n",
    "     'diabetes', 'anemia', 'lung', 'wgain', 'dmeduc', 'dgestat', 'dmage', 'dmar']\n",
    "#cor with D not y\n",
    "x2 = []\n",
    "#cor with y not D\n",
    "x3 = ['csex', 'totord9', 'isllb10', 'dlivord', 'dplural']"
   ]
  },
  {
   "cell_type": "code",
   "execution_count": null,
   "id": "5f3c5f38",
   "metadata": {},
   "outputs": [],
   "source": []
  }
 ],
 "metadata": {
  "kernelspec": {
   "display_name": "Python 3",
   "language": "python",
   "name": "python3"
  },
  "language_info": {
   "codemirror_mode": {
    "name": "ipython",
    "version": 3
   },
   "file_extension": ".py",
   "mimetype": "text/x-python",
   "name": "python",
   "nbconvert_exporter": "python",
   "pygments_lexer": "ipython3",
   "version": "3.8.8"
  }
 },
 "nbformat": 4,
 "nbformat_minor": 5
}
