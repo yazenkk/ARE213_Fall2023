{
 "cells": [
  {
   "cell_type": "code",
   "execution_count": 17,
   "id": "a6697b58",
   "metadata": {},
   "outputs": [],
   "source": [
    "import pandas as pd\n",
    "import numpy as np\n",
    "#import data packages"
   ]
  },
  {
   "cell_type": "code",
   "execution_count": 18,
   "id": "7f2e1fbc",
   "metadata": {},
   "outputs": [],
   "source": [
    "file = pd.read_csv('Pset1.csv')\n",
    "#read in the data"
   ]
  },
  {
   "cell_type": "code",
   "execution_count": 19,
   "id": "935f30bc",
   "metadata": {},
   "outputs": [],
   "source": [
    "#i understand that this is ugly and i'm so sorry. so sorry.\n",
    "file['cardiac'] = file['cardiac'].replace({9: None} )\n",
    "file['lung'] = file['lung'].replace({9: None} )\n",
    "file['diabetes'] = file['diabetes'].replace({9: None} )\n",
    "file['herpes'] = file['herpes'].replace({9: None} )\n",
    "file['herpes'] = file['herpes'].replace({8: None} ) #could be this problem\n",
    "file['chyper'] = file['chyper'].replace({9: None} )\n",
    "file['phyper'] = file['phyper'].replace({9: None} )\n",
    "file['pre4000'] = file['pre4000'].replace({9: None} )\n",
    "file['preterm'] = file['preterm'].replace({9: None} )\n",
    "file['tobacco'] = file['tobacco'].replace({9: None} )\n",
    "file['cigar6'] = file['cigar6'].replace({6: None} )\n",
    "file['alcohol'] = file['alcohol'].replace({9: None})\n",
    "file['wgain'] = file['wgain'].replace({99:None})\n",
    "file['drink5'] = file['drink5'].replace({5:None})\n",
    "#replace missing data codes with NaN values"
   ]
  },
  {
   "cell_type": "code",
   "execution_count": 20,
   "id": "8b342214",
   "metadata": {},
   "outputs": [],
   "source": [
    "#replace [1,2] indicators with [0,1] indicators\n",
    "indic_vars = ['rectype', 'pldel3', 'dmar', 'csex', 'anemia', 'cardiac', 'lung', 'diabetes', 'herpes',\n",
    "       'chyper', 'phyper', 'pre4000', 'preterm', 'tobacco', 'alcohol']\n",
    "for it in indic_vars:\n",
    "    file[it] = file[it].replace([1,2], [1,0])"
   ]
  },
  {
   "cell_type": "code",
   "execution_count": 21,
   "id": "6471c1cf",
   "metadata": {},
   "outputs": [],
   "source": [
    "#create dfs of category->indicator variables\n",
    "mrace3ind = pd.get_dummies(file['mrace3'], prefix = 'mrace3')\n",
    "file['orfathhis'] = file['orfath'].replace([1,2,3,4,5], [1,1,1,1,1])\n",
    "file['ormothhis'] = file['ormoth'].replace([1,2,3,4,5], [1,1,1,1,1])\n",
    "#concatenate indicator variables to main dataframe\n",
    "data_clean = pd.concat([file, mrace3ind], axis=1)"
   ]
  },
  {
   "cell_type": "code",
   "execution_count": 22,
   "id": "4e0ca04d",
   "metadata": {},
   "outputs": [],
   "source": [
    "#create dataframe for analysis with dropped nulls\n",
    "data_clean_a = data_clean.dropna()"
   ]
  },
  {
   "cell_type": "code",
   "execution_count": 23,
   "id": "1ae0f386",
   "metadata": {},
   "outputs": [
    {
     "name": "stdout",
     "output_type": "stream",
     "text": [
      "    variable  no_null_mean  no_null_sd     all_mean      all_sd       diff  \\\n",
      "0     pldel3      0.981904    0.133300     0.980135    0.139535   0.001768   \n",
      "1      dmage     27.756662    5.698714    27.272290    5.844527   0.484371   \n",
      "2     dmeduc     13.210828    2.272132    12.939282    2.293448   0.271546   \n",
      "3       dmar      0.748861    0.433670     0.678667    0.466990   0.070194   \n",
      "4   adequacy      1.297060    0.546108     1.362046    0.610569  -0.064986   \n",
      "5    dgestat     39.152901    2.444981    39.028313    2.708495   0.124588   \n",
      "6       csex      0.514501    0.499792     0.513199    0.499827   0.001303   \n",
      "7      dbrwt   3373.290760  585.174817  3335.836640  612.878055  37.454119   \n",
      "8    dplural      1.028104    0.174365     1.028038    0.173817   0.000066   \n",
      "9      omaps      8.117416    1.259542     8.077086    1.340189   0.040330   \n",
      "10     fmaps      9.009214    0.706982     8.991048    0.820058   0.018166   \n",
      "11   alcohol      0.009694    0.097979     0.031476    0.174600  -0.021782   \n",
      "12   pre4000      0.014484    0.119475     0.013481    0.115324   0.001003   \n",
      "13   preterm      0.014135    0.118048     0.016269    0.126509  -0.002134   \n",
      "14  mrace3_1      0.860518    0.346450     0.827330    0.377963   0.033188   \n",
      "15  mrace3_2      0.019815    0.139365     0.020769    0.142610  -0.000954   \n",
      "16  mrace3_3      0.119667    0.324573     0.151901    0.358926  -0.032235   \n",
      "\n",
      "     se_diff  \n",
      "0   0.000570  \n",
      "1   0.024112  \n",
      "2   0.009536  \n",
      "3   0.001882  \n",
      "4   0.002420  \n",
      "5   0.010778  \n",
      "6   0.002088  \n",
      "7   2.503029  \n",
      "8   0.000727  \n",
      "9   0.005433  \n",
      "10  0.003198  \n",
      "11  0.000591  \n",
      "12  0.000490  \n",
      "13  0.000511  \n",
      "14  0.001515  \n",
      "15  0.000589  \n",
      "16  0.001429  \n",
      "\\begin{tabular}{lrrrrrr}\n",
      "\\toprule\n",
      "variable &  no\\_null\\_mean &  no\\_null\\_sd &  all\\_mean &  all\\_sd &  diff &  se\\_diff \\\\\n",
      "\\midrule\n",
      "  PLDEL3 &           1.0 &         0.1 &       1.0 &     0.1 &   0.0 &      0.0 \\\\\n",
      "   DMAGE &          27.8 &         5.7 &      27.3 &     5.8 &   0.5 &      0.0 \\\\\n",
      "  DMEDUC &          13.2 &         2.3 &      12.9 &     2.3 &   0.3 &      0.0 \\\\\n",
      "    DMAR &           0.7 &         0.4 &       0.7 &     0.5 &   0.1 &      0.0 \\\\\n",
      "ADEQUACY &           1.3 &         0.5 &       1.4 &     0.6 &  -0.1 &      0.0 \\\\\n",
      " DGESTAT &          39.2 &         2.4 &      39.0 &     2.7 &   0.1 &      0.0 \\\\\n",
      "    CSEX &           0.5 &         0.5 &       0.5 &     0.5 &   0.0 &      0.0 \\\\\n",
      "   DBRWT &        3373.3 &       585.2 &    3335.8 &   612.9 &  37.5 &      2.5 \\\\\n",
      " DPLURAL &           1.0 &         0.2 &       1.0 &     0.2 &   0.0 &      0.0 \\\\\n",
      "   OMAPS &           8.1 &         1.3 &       8.1 &     1.3 &   0.0 &      0.0 \\\\\n",
      "   FMAPS &           9.0 &         0.7 &       9.0 &     0.8 &   0.0 &      0.0 \\\\\n",
      " ALCOHOL &           0.0 &         0.1 &       0.0 &     0.2 &  -0.0 &      0.0 \\\\\n",
      " PRE4000 &           0.0 &         0.1 &       0.0 &     0.1 &   0.0 &      0.0 \\\\\n",
      " PRETERM &           0.0 &         0.1 &       0.0 &     0.1 &  -0.0 &      0.0 \\\\\n",
      "MRACE3\\_1 &           0.9 &         0.3 &       0.8 &     0.4 &   0.0 &      0.0 \\\\\n",
      "MRACE3\\_2 &           0.0 &         0.1 &       0.0 &     0.1 &  -0.0 &      0.0 \\\\\n",
      "MRACE3\\_3 &           0.1 &         0.3 &       0.2 &     0.4 &  -0.0 &      0.0 \\\\\n",
      "\\bottomrule\n",
      "\\end{tabular}\n",
      "\n"
     ]
    }
   ],
   "source": [
    "#create dataframe for balance table comparison to check for random (or nonrandom) missing values\n",
    "cols = ['variable', 'no_null_mean', 'no_null_sd', 'all_mean', 'all_sd', 'diff', 'se_diff']\n",
    "balance_t = pd.DataFrame(columns = cols)\n",
    "\n",
    "interesting_vars = ['pldel3', 'dmage', 'dmeduc', 'dmar', 'adequacy', 'dgestat', 'csex', 'dbrwt', \n",
    "                    'dplural', 'omaps', 'fmaps', 'alcohol', 'pre4000', 'preterm', 'mrace3_1', 'mrace3_2', 'mrace3_3',]\n",
    "\n",
    "#append means, standard errors, and differences in both from the null and non-null datasets\n",
    "for name in interesting_vars:\n",
    "    vals = []\n",
    "    vals.append(name)\n",
    "    vals.append(data_clean_a[name].mean())\n",
    "    vals.append(data_clean_a[name].std())\n",
    "    vals.append(data_clean[name].mean())\n",
    "    vals.append(data_clean[name].std())\n",
    "    vals.append(data_clean_a[name].mean()-data_clean[name].mean())\n",
    "    vals.append(np.sqrt(((float(data_clean_a[name].std())**2)/float(data_clean_a[name].notnull().size)+((float(data_clean[name].std())**2)/float(data_clean_a[name].notnull().size)))))\n",
    "    balance_t = balance_t.append(pd.DataFrame([vals], columns = cols), ignore_index = True)\n",
    "#show table\n",
    "print(balance_t)\n",
    "#table to latex\n",
    "print(balance_t.to_latex(index=False,\n",
    "\n",
    "                  formatters={\"variable\": str.upper},\n",
    "\n",
    "                  float_format=\"{:.1f}\".format,))"
   ]
  },
  {
   "cell_type": "code",
   "execution_count": 24,
   "id": "29c2b687",
   "metadata": {},
   "outputs": [
    {
     "name": "stdout",
     "output_type": "stream",
     "text": [
      "    variable         mean          sd  mean no smoking  sd no smoking  \\\n",
      "0     pldel3     0.981904    0.133300         0.996715       0.057220   \n",
      "1      dmage    27.756662    5.698714        26.173437       5.605766   \n",
      "2     dmeduc    13.210828    2.272132        11.986587       1.633245   \n",
      "3       dmar     0.748861    0.433670         0.517847       0.499695   \n",
      "4   adequacy     1.297060    0.546108         1.411311       0.629802   \n",
      "5    dgestat    39.152901    2.444981        39.046808       2.709646   \n",
      "6       csex     0.514501    0.499792         0.518012       0.499689   \n",
      "7      dbrwt  3373.290760  585.174817      3171.139166     572.084454   \n",
      "8    dplural     1.028104    0.174365         1.022556       0.150682   \n",
      "9      omaps     8.117416    1.259542         8.102759       1.265606   \n",
      "10     fmaps     9.009214    0.706982         9.009088       0.707029   \n",
      "11   alcohol     0.009694    0.097979         0.034983       0.183742   \n",
      "12   pre4000     0.014484    0.119475         0.008431       0.091435   \n",
      "13   preterm     0.014135    0.118048         0.024581       0.154849   \n",
      "14  mrace3_1     0.860518    0.346450         0.869156       0.337239   \n",
      "15  mrace3_2     0.019815    0.139365         0.003778       0.061347   \n",
      "16  mrace3_3     0.119667    0.324573         0.127067       0.333057   \n",
      "\n",
      "    mean with smoking  sd with smoking  \n",
      "0            0.979096         0.143065  \n",
      "1           28.056828         5.666528  \n",
      "2           13.442934         2.301660  \n",
      "3            0.792660         0.405404  \n",
      "4            1.275399         0.525961  \n",
      "5           39.173015         2.390986  \n",
      "6            0.513836         0.499811  \n",
      "7         3411.616977       579.731321  \n",
      "8            1.029156         0.178482  \n",
      "9            8.120194         1.258376  \n",
      "10           9.009238         0.706977  \n",
      "11           0.004899         0.069822  \n",
      "12           0.015631         0.124046  \n",
      "13           0.012154         0.109575  \n",
      "14           0.858881         0.348146  \n",
      "15           0.022856         0.149444  \n",
      "16           0.118264         0.322922  \n",
      "\\begin{tabular}{lrrrrrr}\n",
      "\\toprule\n",
      "variable &   mean &    sd &  mean no smoking &  sd no smoking &  mean with smoking &  sd with smoking \\\\\n",
      "\\midrule\n",
      "  PLDEL3 &    1.0 &   0.1 &              1.0 &            0.1 &                1.0 &              0.1 \\\\\n",
      "   DMAGE &   27.8 &   5.7 &             26.2 &            5.6 &               28.1 &              5.7 \\\\\n",
      "  DMEDUC &   13.2 &   2.3 &             12.0 &            1.6 &               13.4 &              2.3 \\\\\n",
      "    DMAR &    0.7 &   0.4 &              0.5 &            0.5 &                0.8 &              0.4 \\\\\n",
      "ADEQUACY &    1.3 &   0.5 &              1.4 &            0.6 &                1.3 &              0.5 \\\\\n",
      " DGESTAT &   39.2 &   2.4 &             39.0 &            2.7 &               39.2 &              2.4 \\\\\n",
      "    CSEX &    0.5 &   0.5 &              0.5 &            0.5 &                0.5 &              0.5 \\\\\n",
      "   DBRWT & 3373.3 & 585.2 &           3171.1 &          572.1 &             3411.6 &            579.7 \\\\\n",
      " DPLURAL &    1.0 &   0.2 &              1.0 &            0.2 &                1.0 &              0.2 \\\\\n",
      "   OMAPS &    8.1 &   1.3 &              8.1 &            1.3 &                8.1 &              1.3 \\\\\n",
      "   FMAPS &    9.0 &   0.7 &              9.0 &            0.7 &                9.0 &              0.7 \\\\\n",
      " ALCOHOL &    0.0 &   0.1 &              0.0 &            0.2 &                0.0 &              0.1 \\\\\n",
      " PRE4000 &    0.0 &   0.1 &              0.0 &            0.1 &                0.0 &              0.1 \\\\\n",
      " PRETERM &    0.0 &   0.1 &              0.0 &            0.2 &                0.0 &              0.1 \\\\\n",
      "MRACE3\\_1 &    0.9 &   0.3 &              0.9 &            0.3 &                0.9 &              0.3 \\\\\n",
      "MRACE3\\_2 &    0.0 &   0.1 &              0.0 &            0.1 &                0.0 &              0.1 \\\\\n",
      "MRACE3\\_3 &    0.1 &   0.3 &              0.1 &            0.3 &                0.1 &              0.3 \\\\\n",
      "\\bottomrule\n",
      "\\end{tabular}\n",
      "\n"
     ]
    }
   ],
   "source": [
    "cols = ['variable', 'mean', 'sd', 'mean no smoking', 'sd no smoking', 'mean with smoking', 'sd with smoking']\n",
    "balance_t = pd.DataFrame(columns = cols)\n",
    "\n",
    "#append means, standard errors, and differences in both from the smoking and non-smoking sections\n",
    "for name in interesting_vars:\n",
    "    vals = []\n",
    "    vals.append(name)\n",
    "    vals.append(data_clean_a[name].mean())\n",
    "    vals.append(data_clean_a[name].std())\n",
    "    vals.append(data_clean_a[data_clean_a['tobacco']==1][name].mean())\n",
    "    vals.append(data_clean_a[data_clean_a['tobacco']==1][name].std())\n",
    "    vals.append(data_clean_a[data_clean_a['tobacco']==0][name].mean())\n",
    "    vals.append(data_clean_a[data_clean_a['tobacco']==0][name].std())\n",
    "    balance_t = balance_t.append(pd.DataFrame([vals], columns = cols), ignore_index = True)\n",
    "print(balance_t)\n",
    "print(balance_t.to_latex(index=False,\n",
    "\n",
    "                  formatters={\"variable\": str.upper},\n",
    "\n",
    "                  float_format=\"{:.1f}\".format,))"
   ]
  },
  {
   "cell_type": "code",
   "execution_count": 25,
   "id": "bbba8de3",
   "metadata": {},
   "outputs": [],
   "source": [
    "#export dataset as csv\n",
    "data_clean_a.to_csv('clean_pset1.csv')"
   ]
  },
  {
   "cell_type": "code",
   "execution_count": 10,
   "id": "2f47fd97",
   "metadata": {},
   "outputs": [
    {
     "name": "stdout",
     "output_type": "stream",
     "text": [
      "Index(['rectype', 'pldel3', 'birattnd', 'cntocpop', 'stresfip', 'dmage',\n",
      "       'ormoth', 'mrace3', 'dmeduc', 'dmar', 'adequacy', 'nlbnl', 'dlivord',\n",
      "       'totord9', 'monpre', 'nprevist', 'isllb10', 'dfage', 'orfath', 'dfeduc',\n",
      "       'birmon', 'weekday', 'dgestat', 'csex', 'dbrwt', 'dplural', 'omaps',\n",
      "       'fmaps', 'clingest', 'anemia', 'cardiac', 'lung', 'diabetes', 'herpes',\n",
      "       'chyper', 'phyper', 'pre4000', 'preterm', 'tobacco', 'cigar6',\n",
      "       'alcohol', 'drink5', 'wgain', 'orfathhis', 'ormothhis', 'mrace3_1',\n",
      "       'mrace3_2', 'mrace3_3'],\n",
      "      dtype='object')\n"
     ]
    }
   ],
   "source": [
    "print(data_clean_a.columns)"
   ]
  },
  {
   "cell_type": "code",
   "execution_count": null,
   "id": "fe3d356f",
   "metadata": {},
   "outputs": [],
   "source": []
  }
 ],
 "metadata": {
  "kernelspec": {
   "display_name": "Python 3",
   "language": "python",
   "name": "python3"
  },
  "language_info": {
   "codemirror_mode": {
    "name": "ipython",
    "version": 3
   },
   "file_extension": ".py",
   "mimetype": "text/x-python",
   "name": "python",
   "nbconvert_exporter": "python",
   "pygments_lexer": "ipython3",
   "version": "3.8.8"
  }
 },
 "nbformat": 4,
 "nbformat_minor": 5
}
