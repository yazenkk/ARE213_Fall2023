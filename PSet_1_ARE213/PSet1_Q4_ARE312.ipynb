{
 "cells": [
  {
   "cell_type": "code",
   "execution_count": 1,
   "id": "433ab0b2",
   "metadata": {},
   "outputs": [],
   "source": [
    "import pandas as pd\n",
    "import numpy as np\n",
    "import matplotlib.pyplot as plt\n",
    "#import data packages\n",
    "\n",
    "\n",
    "import statsmodels.api as sm\n",
    "#import regression packages"
   ]
  },
  {
   "cell_type": "code",
   "execution_count": 2,
   "id": "3142d670",
   "metadata": {},
   "outputs": [],
   "source": [
    "d = pd.read_csv('clean_pset1.csv')"
   ]
  },
  {
   "cell_type": "code",
   "execution_count": 35,
   "id": "56b9363e",
   "metadata": {},
   "outputs": [],
   "source": [
    "#re-define variables from last question\n",
    "\n",
    "#variable classification\n",
    "\n",
    "#outcome\n",
    "y = d['dbrwt'].to_numpy()\n",
    "#treatment\n",
    "D = ['tobacco']\n",
    "D1 = ['cigar6']\n",
    "#cor with y and D\n",
    "x1 = ['alcohol', 'mrace3_2', 'mrace3_3', 'ormothhis', 'adequacy', 'cardiac', 'pre4000', 'phyper', 'chyper', \n",
    "     'diabetes', 'anemia', 'lung', 'wgain', 'dmeduc', 'dgestat', 'dmage', 'dmar']\n",
    "#cor with D not y\n",
    "x2 = []\n",
    "#cor with y not D\n",
    "x3 = ['csex', 'totord9', 'isllb10', 'dlivord', 'dplural']"
   ]
  },
  {
   "cell_type": "code",
   "execution_count": 31,
   "id": "92e93e47",
   "metadata": {},
   "outputs": [
    {
     "name": "stdout",
     "output_type": "stream",
     "text": [
      "Optimization terminated successfully.\n",
      "         Current function value: 0.379269\n",
      "         Iterations 8\n",
      "                           Logit Regression Results                           \n",
      "==============================================================================\n",
      "Dep. Variable:                tobacco   No. Observations:               114610\n",
      "Model:                          Logit   Df Residuals:                   114588\n",
      "Method:                           MLE   Df Model:                           21\n",
      "Date:                Wed, 27 Sep 2023   Pseudo R-squ.:                  0.1353\n",
      "Time:                        10:59:13   Log-Likelihood:                -43468.\n",
      "converged:                       True   LL-Null:                       -50272.\n",
      "Covariance Type:            nonrobust   LLR p-value:                     0.000\n",
      "==============================================================================\n",
      "                 coef    std err          z      P>|z|      [0.025      0.975]\n",
      "------------------------------------------------------------------------------\n",
      "alcohol        1.7535      0.066     26.563      0.000       1.624       1.883\n",
      "mrace3_2       1.8595      0.130     14.320      0.000       1.605       2.114\n",
      "mrace3_3       1.0775      0.029     37.079      0.000       1.021       1.134\n",
      "ormothhis      1.6208      0.056     29.173      0.000       1.512       1.730\n",
      "adequacy      -0.0804      0.015     -5.208      0.000      -0.111      -0.050\n",
      "cardiac       -0.5309      0.117     -4.554      0.000      -0.759      -0.302\n",
      "pre4000       -1.0666      0.094    -11.359      0.000      -1.251      -0.883\n",
      "phyper        -0.5028      0.060     -8.358      0.000      -0.621      -0.385\n",
      "chyper        -0.5069      0.111     -4.572      0.000      -0.724      -0.290\n",
      "diabetes      -0.0043      0.055     -0.078      0.938      -0.111       0.103\n",
      "anemia        -0.1052      0.080     -1.314      0.189      -0.262       0.052\n",
      "lung          -0.1357      0.095     -1.423      0.155      -0.322       0.051\n",
      "wgain          0.0048      0.001      6.577      0.000       0.003       0.006\n",
      "dmeduc         0.2432      0.005     49.868      0.000       0.234       0.253\n",
      "dgestat        0.0023      0.003      0.750      0.453      -0.004       0.008\n",
      "dmage          0.0096      0.002      4.651      0.000       0.006       0.014\n",
      "dmar          -1.2668      0.022    -58.184      0.000      -1.309      -1.224\n",
      "csex           0.0225      0.017      1.296      0.195      -0.012       0.057\n",
      "totord9       -0.2341      0.010    -23.212      0.000      -0.254      -0.214\n",
      "isllb10       -0.0652      0.003    -19.121      0.000      -0.072      -0.058\n",
      "dlivord        0.1701      0.013     12.938      0.000       0.144       0.196\n",
      "dplural       -0.0337      0.053     -0.641      0.522      -0.137       0.069\n",
      "==============================================================================\n"
     ]
    }
   ],
   "source": [
    "#running logit\n",
    "vals = sm.Logit(d[D],d[x1+x3])\n",
    "out = vals.fit()\n",
    "print(out.summary())"
   ]
  },
  {
   "cell_type": "code",
   "execution_count": 32,
   "id": "76b9537d",
   "metadata": {},
   "outputs": [],
   "source": [
    "post = out.predict(d[x1+x3])\n",
    "d['post'] = post"
   ]
  },
  {
   "cell_type": "code",
   "execution_count": 33,
   "id": "65aec2ce",
   "metadata": {},
   "outputs": [
    {
     "data": {
      "image/png": "[encoded data removed]",
      "text/plain": [
       "<Figure size 432x288 with 1 Axes>"
      ]
     },
     "metadata": {
      "needs_background": "light"
     },
     "output_type": "display_data"
    }
   ],
   "source": [
    "plt.hist(d[d['tobacco']==1]['post'], bins =30, alpha = 0.5)\n",
    "plt.hist(d[d['tobacco']==0]['post'], bins = 30, alpha = 0.5)\n",
    "plt.show()"
   ]
  },
  {
   "cell_type": "code",
   "execution_count": 38,
   "id": "d8d692ba",
   "metadata": {},
   "outputs": [
    {
     "name": "stdout",
     "output_type": "stream",
     "text": [
      "                            OLS Regression Results                            \n",
      "==============================================================================\n",
      "Dep. Variable:                      y   R-squared:                       0.389\n",
      "Model:                            OLS   Adj. R-squared:                  0.388\n",
      "Method:                 Least Squares   F-statistic:                     3166.\n",
      "Date:                Wed, 27 Sep 2023   Prob (F-statistic):               0.00\n",
      "Time:                        11:07:52   Log-Likelihood:            -8.6472e+05\n",
      "No. Observations:              114610   AIC:                         1.729e+06\n",
      "Df Residuals:                  114586   BIC:                         1.730e+06\n",
      "Df Model:                          23                                         \n",
      "Covariance Type:            nonrobust                                         \n",
      "==============================================================================\n",
      "                 coef    std err          t      P>|t|      [0.025      0.975]\n",
      "------------------------------------------------------------------------------\n",
      "const       -676.0198     48.528    -13.931      0.000    -771.133    -580.906\n",
      "post         308.0631     32.993      9.337      0.000     243.397     372.729\n",
      "alcohol       29.4697     17.579      1.676      0.094      -4.986      63.925\n",
      "mrace3_2    -179.6394     10.235    -17.551      0.000    -199.700    -159.579\n",
      "mrace3_3    -143.3401      6.810    -21.049      0.000    -156.687    -129.993\n",
      "ormothhis   -104.6531      9.592    -10.911      0.000    -123.452     -85.854\n",
      "adequacy     -22.9996      2.697     -8.528      0.000     -28.286     -17.713\n",
      "cardiac       37.3321     16.454      2.269      0.023       5.083      69.582\n",
      "pre4000     -364.2709     11.892    -30.630      0.000    -387.580    -340.962\n",
      "phyper       134.5878      8.046     16.727      0.000     118.817     150.358\n",
      "chyper       141.4065     15.605      9.062      0.000     110.821     171.992\n",
      "diabetes    -171.6654      8.426    -20.374      0.000    -188.179    -155.151\n",
      "anemia       -21.9166     13.654     -1.605      0.108     -48.678       4.845\n",
      "lung          25.3693     15.995      1.586      0.113      -5.982      56.720\n",
      "wgain          8.3080      0.119     69.926      0.000       8.075       8.541\n",
      "dmeduc         4.9996      1.108      4.511      0.000       2.827       7.172\n",
      "dgestat      109.5336      0.578    189.398      0.000     108.400     110.667\n",
      "dmage          0.1090      0.327      0.333      0.739      -0.532       0.750\n",
      "dmar         -39.9578      7.503     -5.325      0.000     -54.664     -25.251\n",
      "csex        -132.8023      2.709    -49.018      0.000    -138.112    -127.492\n",
      "totord9       -0.7720      2.010     -0.384      0.701      -4.711       3.167\n",
      "isllb10       12.4121      0.594     20.907      0.000      11.248      13.576\n",
      "dlivord       39.4808      2.373     16.639      0.000      34.830      44.131\n",
      "dplural     -606.0213      8.082    -74.986      0.000    -621.861    -590.181\n",
      "==============================================================================\n",
      "Omnibus:                     1261.582   Durbin-Watson:                   1.956\n",
      "Prob(Omnibus):                  0.000   Jarque-Bera (JB):             2181.878\n",
      "Skew:                           0.035   Prob(JB):                         0.00\n",
      "Kurtosis:                       3.672   Cond. No.                     2.28e+03\n",
      "==============================================================================\n",
      "\n",
      "Notes:\n",
      "[1] Standard Errors assume that the covariance matrix of the errors is correctly specified.\n",
      "[2] The condition number is large, 2.28e+03. This might indicate that there are\n",
      "strong multicollinearity or other numerical problems.\n"
     ]
    }
   ],
   "source": [
    "p = ['post']\n",
    "#predict y using propensity score\n",
    "vals = sm.OLS(y, sm.add_constant(d[p+x1+x3]))\n",
    "out = vals.fit()\n",
    "print(out.summary())"
   ]
  },
  {
   "cell_type": "code",
   "execution_count": null,
   "id": "5429797b",
   "metadata": {},
   "outputs": [],
   "source": []
  }
 ],
 "metadata": {
  "kernelspec": {
   "display_name": "Python 3",
   "language": "python",
   "name": "python3"
  },
  "language_info": {
   "codemirror_mode": {
    "name": "ipython",
    "version": 3
   },
   "file_extension": ".py",
   "mimetype": "text/x-python",
   "name": "python",
   "nbconvert_exporter": "python",
   "pygments_lexer": "ipython3",
   "version": "3.8.8"
  }
 },
 "nbformat": 4,
 "nbformat_minor": 5
}
